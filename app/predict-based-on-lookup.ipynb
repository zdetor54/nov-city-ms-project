{
 "cells": [
  {
   "cell_type": "code",
   "execution_count": 13,
   "metadata": {},
   "outputs": [],
   "source": [
    "import os\n",
    "import json\n",
    "from tqdm import tqdm\n",
    "from tensorflow import keras\n",
    "from IPython.display import clear_output\n",
    "from collections import Counter\n",
    "import time\n",
    "\n",
    "import matplotlib.pyplot as plt\n",
    "import numpy as np\n",
    "\n",
    "\n",
    "from pathlib import Path"
   ]
  },
  {
   "cell_type": "code",
   "execution_count": 4,
   "metadata": {},
   "outputs": [],
   "source": [
    "Path(os.getcwd()+\"\\output\\cnn_models\").mkdir(parents=True, exist_ok=True)"
   ]
  },
  {
   "cell_type": "markdown",
   "metadata": {},
   "source": [
    "# Load input data\n",
    "\n",
    "* data: Tabular data + ground truth\n",
    "* dict_col_candidate_classes: a dictionary with filename_columns and in each of the an array of [(candidate_type, candidate_entity, original_cell_value, rank)]\n",
    "* type_neighours_pos_neg_samples: a dictionary that is used to train the classifiers so for each candidate class we have the neighbouring classes, positive samples from the KG and positive and negative samples from the tabular data"
   ]
  },
  {
   "cell_type": "markdown",
   "metadata": {},
   "source": [
    "# only consider candidate classes between columns that have links"
   ]
  },
  {
   "cell_type": "code",
   "execution_count": 5,
   "metadata": {},
   "outputs": [],
   "source": [
    "# Load the dictionary with the lookup results for each cell value in the tabular data\n",
    "def load_json(data_json):\n",
    "    with open(data_json) as json_file:\n",
    "        return json.load(json_file)"
   ]
  },
  {
   "cell_type": "code",
   "execution_count": 6,
   "metadata": {},
   "outputs": [],
   "source": [
    "output_folder = 'output\\\\'\n",
    "data = load_json(output_folder+'data.json')\n",
    "dict_col_candidate_classes = load_json(output_folder+'dict_col_candidate_classes.json')\n",
    "type_neighours_pos_neg_samples = load_json(output_folder+'type_neighours_pos_neg_samples.json')\n",
    "dict_cand = load_json(output_folder+'dict_cand.json')"
   ]
  },
  {
   "cell_type": "markdown",
   "metadata": {},
   "source": [
    "# Assess lookup efficiency\n",
    "\n",
    "In this step, provided that we have the ground truth, we asses if the expected class is in the top x of the retrieved candidate classes."
   ]
  },
  {
   "cell_type": "code",
   "execution_count": 7,
   "metadata": {},
   "outputs": [],
   "source": [
    "from rdflib import Graph\n",
    "from SPARQLWrapper import SPARQLWrapper, JSON, N3\n",
    "from pprint import pprint\n",
    "import requests\n",
    "import xml.etree.ElementTree as ET"
   ]
  },
  {
   "cell_type": "code",
   "execution_count": 12,
   "metadata": {},
   "outputs": [
    {
     "data": {
      "text/plain": [
       "['Software',\n",
       " 'Artwork',\n",
       " 'Film',\n",
       " 'RadioProgram',\n",
       " 'TelevisionEpisode',\n",
       " 'TelevisionSeason',\n",
       " 'TelevisionShow',\n",
       " 'Website',\n",
       " 'WrittenWork',\n",
       " 'Document',\n",
       " 'MusicalWork',\n",
       " 'Database',\n",
       " 'CollectionOfValuables',\n",
       " 'LineOfFashion',\n",
       " 'قیمتی_اشیاء_کا_مجموعہ۔']"
      ]
     },
     "execution_count": 12,
     "metadata": {},
     "output_type": "execute_result"
    }
   ],
   "source": [
    "def dbo_sparql_results(query_string):\n",
    "    \n",
    "    classes = list([])\n",
    "    dbo_prefix = 'http://dbpedia.org/ontology/'\n",
    "    \n",
    "    \n",
    "    sparql = SPARQLWrapper('https://dbpedia.org/sparql')\n",
    "    sparql.setQuery(query_string)\n",
    "    \n",
    "    try:\n",
    "        sparql.setReturnFormat(JSON)\n",
    "        qres = sparql.query().convert()\n",
    "        for entity_class in qres['results']['bindings']:\n",
    "            if dbo_prefix in entity_class[list(qres['results']['bindings'][0].keys())[0]]['value']:\n",
    "                candicate_class = entity_class[list(qres['results']['bindings'][0].keys())[0]]['value'].split(dbo_prefix)[1]\n",
    "                classes.append(candicate_class)\n",
    "    except:\n",
    "        pass\n",
    "    \n",
    "    return classes\n",
    "\n",
    "def get_dbo_subclass(superClass):\n",
    "    \n",
    "    query_string = f'''\n",
    "    SELECT distinct ?subClass \n",
    "    WHERE {{ ?subClass rdfs:subClassOf dbo:{superClass}. }}\n",
    "    '''\n",
    "    return dbo_sparql_results(query_string)\n",
    "\n",
    "\n",
    "def get_dbo_superclass(subclass):\n",
    "    \n",
    "    query_string = f'''\n",
    "    SELECT distinct ?superClass \n",
    "    WHERE {{ dbo:{subclass} rdfs:subClassOf ?superClass . }}\n",
    "    '''\n",
    "    \n",
    "    return dbo_sparql_results(query_string)\n",
    "\n",
    "\n",
    "def get_dbo_superclasses(subclass):\n",
    "    classes = list([])\n",
    "    \n",
    "    try:\n",
    "        parent = get_dbo_superclass(subclass)\n",
    "    except:\n",
    "        return []\n",
    "    \n",
    "    while len(parent) > 0:\n",
    "        classes.append(parent[0])\n",
    "        parent = get_dbo_superclass(parent[0])\n",
    "    return classes\n",
    "\n",
    "get_dbo_subclass('Work')"
   ]
  },
  {
   "cell_type": "code",
   "execution_count": 7,
   "metadata": {},
   "outputs": [],
   "source": [
    "def get_column_candidate_classes(filename,col,limit = -1):\n",
    "    if limit >= 0:\n",
    "        candidate_list = Counter([i[0] for i in dict_col_candidate_classes[filename][col]]).most_common()[:limit]\n",
    "    else:\n",
    "        candidate_list = Counter([i[0] for i in dict_col_candidate_classes[filename][col]]).most_common()\n",
    "    return [x[0] for x in candidate_list]\n",
    "\n",
    "dict_cand = dict()\n",
    "\n",
    "total = 0\n",
    "for filename in dict_col_candidate_classes:\n",
    "    dict_cand[filename] = dict()\n",
    "    for col in dict_col_candidate_classes[filename]:\n",
    "        dict_cand[filename][col] = dict()\n",
    "        dict_cand[filename][col]['class_without_hr'] = get_column_candidate_classes(filename, col)\n",
    "        total+=1"
   ]
  },
  {
   "cell_type": "markdown",
   "metadata": {},
   "source": [
    "On top of having a list of all candidate classes that appear in a column, the next step is to remove classes that are higher up in the list if at least one of their subclasses also appears in the list.\n",
    "This approach seems to improve the precision (i.e. the top classes are more relevant) but decrease the recall"
   ]
  },
  {
   "cell_type": "code",
   "execution_count": 8,
   "metadata": {},
   "outputs": [
    {
     "name": "stderr",
     "output_type": "stream",
     "text": [
      "100%|██████████████████████████████████████████████████████████████████████████████████| 63/63 [11:13<00:00, 10.69s/it]\n"
     ]
    }
   ],
   "source": [
    "from tqdm import tqdm\n",
    "\n",
    "for filename in tqdm(dict_cand):\n",
    "    for col in dict_cand[filename]:\n",
    "        dict_cand[filename][col]['class_with_hr'] = list([])\n",
    "        for cls in dict_cand[filename][col]['class_without_hr']:\n",
    "            if len([value for value in get_dbo_subclass(cls) if value in dict_cand[filename][col]['class_without_hr']]) == 0:\n",
    "                dict_cand[filename][col]['class_with_hr'].append(cls)\n",
    "                \n",
    "with open(('output/dict_cand-%s.json' % time.strftime(\"%Y%m%d-%H%M%S\")), 'w') as fp:\n",
    "        json.dump(dict_cand, fp)"
   ]
  },
  {
   "cell_type": "markdown",
   "metadata": {},
   "source": [
    "# Experiments:\n",
    " 1. Top X without repetition of cell values, without checking parent child relationships\n",
    " 2. Top x without repetition of cell values, having removed candidate classes for which at list one subclass also appears in the list of candidate classes\n",
    " 3. Top x with repetition of cell values. This means if a value appears multiple times in a column then the cancidate class will get more that one votes from that cell value"
   ]
  },
  {
   "cell_type": "code",
   "execution_count": 23,
   "metadata": {},
   "outputs": [],
   "source": [
    "def lookup_assessment(dict_cand, threshold = 10000):\n",
    "    found = 0\n",
    "    found_with = 0\n",
    "    total_columns = 0\n",
    "\n",
    "    for file in dict_cand:\n",
    "        for col in dict_cand[file]:\n",
    "            candidate_class_without_hr = dict_cand[file][col]['class_without_hr'][:threshold]\n",
    "            candidate_class_with_hr = dict_cand[file][col]['class_with_hr'][:threshold]\n",
    "            actual_cls = next(item for item in data if item[\"filename\"] == file)['gt'][col]\n",
    "            if actual_cls in candidate_class_without_hr:\n",
    "                found+=1\n",
    "            if actual_cls in candidate_class_with_hr:\n",
    "                found_with+=1\n",
    "            total_columns+=1\n",
    "    return (round(100*found/total_columns,2),round(100*found_with/total_columns,2))"
   ]
  },
  {
   "cell_type": "code",
   "execution_count": 24,
   "metadata": {},
   "outputs": [
    {
     "data": {
      "image/png": "[encoded data removed]",
      "text/plain": [
       "<Figure size 432x288 with 1 Axes>"
      ]
     },
     "metadata": {
      "needs_background": "light"
     },
     "output_type": "display_data"
    },
    {
     "data": {
      "text/plain": [
       "[(1, (17.43, 37.61)),\n",
       " (2, (33.94, 55.05)),\n",
       " (3, (56.88, 55.96)),\n",
       " (4, (68.81, 59.63)),\n",
       " (5, (76.15, 60.55)),\n",
       " (6, (80.73, 60.55)),\n",
       " (7, (81.65, 60.55)),\n",
       " (8, (83.49, 60.55)),\n",
       " (9, (88.07, 62.39)),\n",
       " (10, (89.91, 63.3)),\n",
       " (11, (91.74, 63.3)),\n",
       " (12, (92.66, 63.3)),\n",
       " (13, (92.66, 63.3)),\n",
       " (14, (92.66, 63.3)),\n",
       " (15, (92.66, 63.3)),\n",
       " (16, (92.66, 63.3)),\n",
       " (17, (92.66, 63.3)),\n",
       " (18, (92.66, 63.3)),\n",
       " (19, (93.58, 63.3)),\n",
       " (20, (94.5, 63.3)),\n",
       " (21, (94.5, 63.3)),\n",
       " (22, (94.5, 63.3)),\n",
       " (23, (94.5, 63.3)),\n",
       " (24, (94.5, 63.3)),\n",
       " (25, (94.5, 63.3)),\n",
       " (26, (94.5, 63.3)),\n",
       " (27, (95.41, 63.3)),\n",
       " (28, (95.41, 63.3)),\n",
       " (29, (95.41, 63.3)),\n",
       " (30, (95.41, 63.3)),\n",
       " (31, (95.41, 63.3)),\n",
       " (32, (95.41, 63.3)),\n",
       " (33, (95.41, 63.3)),\n",
       " (34, (95.41, 63.3)),\n",
       " (35, (95.41, 63.3)),\n",
       " (36, (95.41, 63.3)),\n",
       " (37, (95.41, 63.3)),\n",
       " (38, (95.41, 63.3)),\n",
       " (39, (95.41, 63.3)),\n",
       " (40, (95.41, 63.3)),\n",
       " (41, (95.41, 63.3)),\n",
       " (42, (95.41, 63.3)),\n",
       " (43, (95.41, 63.3)),\n",
       " (44, (95.41, 63.3)),\n",
       " (45, (95.41, 63.3)),\n",
       " (46, (95.41, 63.3)),\n",
       " (47, (95.41, 63.3)),\n",
       " (48, (95.41, 63.3)),\n",
       " (49, (95.41, 63.3)),\n",
       " (50, (95.41, 63.3)),\n",
       " (51, (95.41, 63.3)),\n",
       " (52, (95.41, 63.3)),\n",
       " (53, (95.41, 63.3)),\n",
       " (54, (95.41, 63.3)),\n",
       " (55, (95.41, 63.3)),\n",
       " (56, (95.41, 63.3)),\n",
       " (57, (95.41, 63.3)),\n",
       " (58, (95.41, 63.3)),\n",
       " (59, (95.41, 63.3)),\n",
       " (60, (95.41, 63.3)),\n",
       " (61, (95.41, 63.3)),\n",
       " (62, (95.41, 63.3)),\n",
       " (63, (95.41, 63.3)),\n",
       " (64, (95.41, 63.3)),\n",
       " (65, (95.41, 63.3)),\n",
       " (66, (95.41, 63.3)),\n",
       " (67, (95.41, 63.3)),\n",
       " (68, (95.41, 63.3)),\n",
       " (69, (95.41, 63.3)),\n",
       " (70, (95.41, 63.3)),\n",
       " (71, (95.41, 63.3)),\n",
       " (72, (95.41, 63.3)),\n",
       " (73, (95.41, 63.3)),\n",
       " (74, (95.41, 63.3)),\n",
       " (75, (95.41, 63.3)),\n",
       " (76, (95.41, 63.3)),\n",
       " (77, (95.41, 63.3)),\n",
       " (78, (95.41, 63.3)),\n",
       " (79, (95.41, 63.3)),\n",
       " (80, (95.41, 63.3)),\n",
       " (81, (95.41, 63.3)),\n",
       " (82, (95.41, 63.3)),\n",
       " (83, (95.41, 63.3)),\n",
       " (84, (95.41, 63.3)),\n",
       " (85, (95.41, 63.3)),\n",
       " (86, (95.41, 63.3)),\n",
       " (87, (95.41, 63.3)),\n",
       " (88, (95.41, 63.3)),\n",
       " (89, (95.41, 63.3)),\n",
       " (90, (95.41, 63.3)),\n",
       " (91, (95.41, 63.3)),\n",
       " (92, (95.41, 63.3)),\n",
       " (93, (95.41, 63.3)),\n",
       " (94, (95.41, 63.3)),\n",
       " (95, (95.41, 63.3)),\n",
       " (96, (95.41, 63.3)),\n",
       " (97, (95.41, 63.3)),\n",
       " (98, (95.41, 63.3)),\n",
       " (99, (95.41, 63.3)),\n",
       " (100, (95.41, 63.3)),\n",
       " (101, (95.41, 63.3)),\n",
       " (102, (95.41, 63.3)),\n",
       " (103, (95.41, 63.3)),\n",
       " (104, (95.41, 63.3)),\n",
       " (105, (95.41, 63.3)),\n",
       " (106, (95.41, 63.3)),\n",
       " (107, (95.41, 63.3)),\n",
       " (108, (95.41, 63.3)),\n",
       " (109, (95.41, 63.3)),\n",
       " (110, (95.41, 63.3)),\n",
       " (111, (95.41, 63.3)),\n",
       " (112, (95.41, 63.3)),\n",
       " (113, (95.41, 63.3)),\n",
       " (114, (95.41, 63.3)),\n",
       " (115, (95.41, 63.3)),\n",
       " (116, (95.41, 63.3)),\n",
       " (117, (95.41, 63.3)),\n",
       " (118, (95.41, 63.3)),\n",
       " (119, (95.41, 63.3)),\n",
       " (120, (95.41, 63.3)),\n",
       " (121, (95.41, 63.3)),\n",
       " (122, (95.41, 63.3)),\n",
       " (123, (95.41, 63.3)),\n",
       " (124, (95.41, 63.3)),\n",
       " (125, (95.41, 63.3)),\n",
       " (126, (95.41, 63.3)),\n",
       " (127, (95.41, 63.3)),\n",
       " (128, (95.41, 63.3)),\n",
       " (129, (95.41, 63.3)),\n",
       " (130, (95.41, 63.3)),\n",
       " (131, (95.41, 63.3)),\n",
       " (132, (95.41, 63.3)),\n",
       " (133, (95.41, 63.3)),\n",
       " (134, (95.41, 63.3)),\n",
       " (135, (95.41, 63.3)),\n",
       " (136, (95.41, 63.3)),\n",
       " (137, (95.41, 63.3)),\n",
       " (138, (95.41, 63.3)),\n",
       " (139, (95.41, 63.3)),\n",
       " (140, (95.41, 63.3)),\n",
       " (141, (95.41, 63.3)),\n",
       " (142, (95.41, 63.3)),\n",
       " (143, (95.41, 63.3)),\n",
       " (144, (95.41, 63.3)),\n",
       " (145, (95.41, 63.3)),\n",
       " (146, (95.41, 63.3)),\n",
       " (147, (95.41, 63.3)),\n",
       " (148, (95.41, 63.3)),\n",
       " (149, (95.41, 63.3)),\n",
       " (150, (95.41, 63.3)),\n",
       " (151, (95.41, 63.3)),\n",
       " (152, (95.41, 63.3)),\n",
       " (153, (95.41, 63.3)),\n",
       " (154, (95.41, 63.3)),\n",
       " (155, (95.41, 63.3)),\n",
       " (156, (95.41, 63.3)),\n",
       " (157, (95.41, 63.3)),\n",
       " (158, (95.41, 63.3)),\n",
       " (159, (95.41, 63.3)),\n",
       " (160, (95.41, 63.3)),\n",
       " (161, (95.41, 63.3)),\n",
       " (162, (95.41, 63.3)),\n",
       " (163, (95.41, 63.3)),\n",
       " (164, (95.41, 63.3)),\n",
       " (165, (95.41, 63.3)),\n",
       " (166, (95.41, 63.3)),\n",
       " (167, (95.41, 63.3)),\n",
       " (168, (95.41, 63.3)),\n",
       " (169, (95.41, 63.3)),\n",
       " (170, (95.41, 63.3)),\n",
       " (171, (95.41, 63.3)),\n",
       " (172, (95.41, 63.3)),\n",
       " (173, (95.41, 63.3)),\n",
       " (174, (95.41, 63.3)),\n",
       " (175, (95.41, 63.3)),\n",
       " (176, (95.41, 63.3)),\n",
       " (177, (95.41, 63.3)),\n",
       " (178, (95.41, 63.3)),\n",
       " (179, (95.41, 63.3)),\n",
       " (180, (95.41, 63.3))]"
      ]
     },
     "execution_count": 24,
     "metadata": {},
     "output_type": "execute_result"
    }
   ],
   "source": [
    "results = []\n",
    "\n",
    "# first we calculate the max number of candidates across all the columns in the tabular data so we cap the range\n",
    "max_cand = 0\n",
    "for file in dict_col_candidate_classes:\n",
    "    for col in dict_col_candidate_classes[file]:\n",
    "        \n",
    "        candidate_cls = set()\n",
    "        for element in dict_col_candidate_classes[file][col]:\n",
    "            candidate_cls.add(element[0])\n",
    "        if len(candidate_cls) > max_cand:\n",
    "            max_cand = len(candidate_cls)\n",
    "\n",
    "# the we increase the size of top list one element at a time until we reac the cap...\n",
    "for i in range(1,max_cand):\n",
    "    (x,y) = (i, lookup_assessment(dict_cand, i))\n",
    "    results.append((x,y))\n",
    "\n",
    "#... and plot the results\n",
    "fig, ax = plt.subplots()\n",
    "ax.plot([x[0] for x in results],[x[1] for x in results])\n",
    "plt.show()\n",
    "results"
   ]
  },
  {
   "cell_type": "code",
   "execution_count": 1,
   "metadata": {},
   "outputs": [
    {
     "ename": "NameError",
     "evalue": "name 'dict_col_candidate_classes' is not defined",
     "output_type": "error",
     "traceback": [
      "\u001b[1;31m---------------------------------------------------------------------------\u001b[0m",
      "\u001b[1;31mNameError\u001b[0m                                 Traceback (most recent call last)",
      "\u001b[1;32m<ipython-input-1-6c7e78dcc1d9>\u001b[0m in \u001b[0;36m<module>\u001b[1;34m\u001b[0m\n\u001b[0;32m      3\u001b[0m \u001b[1;31m# first we calculate the max number of candidates across all the columns in the tabular data so we cap the range\u001b[0m\u001b[1;33m\u001b[0m\u001b[1;33m\u001b[0m\u001b[1;33m\u001b[0m\u001b[0m\n\u001b[0;32m      4\u001b[0m \u001b[0mmax_cand\u001b[0m \u001b[1;33m=\u001b[0m \u001b[1;36m0\u001b[0m\u001b[1;33m\u001b[0m\u001b[1;33m\u001b[0m\u001b[0m\n\u001b[1;32m----> 5\u001b[1;33m \u001b[1;32mfor\u001b[0m \u001b[0mfile\u001b[0m \u001b[1;32min\u001b[0m \u001b[0mdict_col_candidate_classes\u001b[0m\u001b[1;33m:\u001b[0m\u001b[1;33m\u001b[0m\u001b[1;33m\u001b[0m\u001b[0m\n\u001b[0m\u001b[0;32m      6\u001b[0m     \u001b[1;32mfor\u001b[0m \u001b[0mcol\u001b[0m \u001b[1;32min\u001b[0m \u001b[0mdict_col_candidate_classes\u001b[0m\u001b[1;33m[\u001b[0m\u001b[0mfile\u001b[0m\u001b[1;33m]\u001b[0m\u001b[1;33m:\u001b[0m\u001b[1;33m\u001b[0m\u001b[1;33m\u001b[0m\u001b[0m\n\u001b[0;32m      7\u001b[0m \u001b[1;33m\u001b[0m\u001b[0m\n",
      "\u001b[1;31mNameError\u001b[0m: name 'dict_col_candidate_classes' is not defined"
     ]
    }
   ],
   "source": [
    "results = []\n",
    "\n",
    "# first we calculate the max number of candidates across all the columns in the tabular data so we cap the range\n",
    "max_cand = 0\n",
    "for file in dict_col_candidate_classes:\n",
    "    for col in dict_col_candidate_classes[file]:\n",
    "        \n",
    "        candidate_cls = set()\n",
    "        for element in dict_col_candidate_classes[file][col]:\n",
    "            candidate_cls.add(element[0])\n",
    "        if len(candidate_cls) > max_cand:\n",
    "            max_cand = len(candidate_cls)\n",
    "\n",
    "# the we increase the size of top list one element at a time until we reac the cap...\n",
    "for i in range(1,10):\n",
    "    (x,y) = (i, lookup_assessment(dict_cand, i))\n",
    "    results.append((x,y))\n",
    "\n",
    "#... and plot the results\n",
    "fig, ax = plt.subplots()\n",
    "ax.plot([x[0] for x in results],[x[1] for x in results])\n",
    "plt.show()\n",
    "results"
   ]
  },
  {
   "cell_type": "code",
   "execution_count": null,
   "metadata": {},
   "outputs": [],
   "source": []
  },
  {
   "cell_type": "code",
   "execution_count": null,
   "metadata": {},
   "outputs": [],
   "source": []
  },
  {
   "cell_type": "code",
   "execution_count": null,
   "metadata": {},
   "outputs": [],
   "source": []
  },
  {
   "cell_type": "code",
   "execution_count": null,
   "metadata": {},
   "outputs": [],
   "source": []
  },
  {
   "cell_type": "code",
   "execution_count": null,
   "metadata": {},
   "outputs": [],
   "source": []
  },
  {
   "cell_type": "code",
   "execution_count": null,
   "metadata": {},
   "outputs": [],
   "source": []
  },
  {
   "cell_type": "code",
   "execution_count": null,
   "metadata": {},
   "outputs": [],
   "source": []
  },
  {
   "cell_type": "code",
   "execution_count": null,
   "metadata": {},
   "outputs": [],
   "source": []
  },
  {
   "cell_type": "markdown",
   "metadata": {},
   "source": [
    "Retrieve all folders under the cnn_models root"
   ]
  },
  {
   "cell_type": "code",
   "execution_count": null,
   "metadata": {},
   "outputs": [],
   "source": [
    "# change the directory to where the models are\n",
    "cnn_model_directory = os.getcwd()+'\\\\output\\\\cnn_models'"
   ]
  },
  {
   "cell_type": "code",
   "execution_count": null,
   "metadata": {},
   "outputs": [],
   "source": [
    "def get_cnn_models(directory):\n",
    "    temp = [x[0] for x in os.walk(directory)]\n",
    "    temp.remove(directory)\n",
    "    return set([x.replace(directory+'\\\\','').split('\\\\')[0] for x in temp])\n",
    "\n",
    "trained_models = list(get_cnn_models(cnn_model_directory))\n",
    "trained_models"
   ]
  },
  {
   "cell_type": "code",
   "execution_count": null,
   "metadata": {},
   "outputs": [],
   "source": [
    "def load_model(cnn_model_directory, candidate_class):\n",
    "    return keras.models.load_model(cnn_model_directory+'\\%s' % candidate_class)\n",
    "\n",
    "# model = load_model(cnn_model_directory, 'Astronaut')"
   ]
  },
  {
   "cell_type": "code",
   "execution_count": null,
   "metadata": {},
   "outputs": [],
   "source": [
    "# model.summary()"
   ]
  },
  {
   "cell_type": "code",
   "execution_count": null,
   "metadata": {},
   "outputs": [],
   "source": [
    "# results"
   ]
  },
  {
   "cell_type": "code",
   "execution_count": null,
   "metadata": {},
   "outputs": [],
   "source": []
  }
 ],
 "metadata": {
  "kernelspec": {
   "display_name": "Python 3",
   "language": "python",
   "name": "python3"
  },
  "language_info": {
   "codemirror_mode": {
    "name": "ipython",
    "version": 3
   },
   "file_extension": ".py",
   "mimetype": "text/x-python",
   "name": "python",
   "nbconvert_exporter": "python",
   "pygments_lexer": "ipython3",
   "version": "3.7.3"
  }
 },
 "nbformat": 4,
 "nbformat_minor": 2
}
