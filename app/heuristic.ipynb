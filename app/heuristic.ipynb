{
 "cells": [
  {
   "cell_type": "code",
   "execution_count": 1,
   "metadata": {},
   "outputs": [],
   "source": [
    "import os\n",
    "import json\n",
    "import itertools\n",
    "# from tqdm import tqdm\n",
    "# from tensorflow import keras\n",
    "# from IPython.display import clear_output\n",
    "\n",
    "# from pattern.text.en import tokenize\n",
    "# from gensim.models import Word2Vec"
   ]
  },
  {
   "cell_type": "code",
   "execution_count": 2,
   "metadata": {},
   "outputs": [],
   "source": [
    "# Load the dictionary with the lookup results for each cell value in the tabular data\n",
    "def load_json(data_json):\n",
    "    with open(data_json) as json_file:\n",
    "        return json.load(json_file)"
   ]
  },
  {
   "cell_type": "code",
   "execution_count": 3,
   "metadata": {},
   "outputs": [],
   "source": [
    "from rdflib import Graph\n",
    "from SPARQLWrapper import SPARQLWrapper, JSON, N3\n",
    "from pprint import pprint\n",
    "import requests\n",
    "import xml.etree.ElementTree as ET"
   ]
  },
  {
   "cell_type": "code",
   "execution_count": 4,
   "metadata": {},
   "outputs": [
    {
     "data": {
      "text/plain": [
       "['Artist', 'Person', 'Animal', 'Eukaryote', 'Species']"
      ]
     },
     "execution_count": 4,
     "metadata": {},
     "output_type": "execute_result"
    }
   ],
   "source": [
    "def dbo_sparql_results(query_string):\n",
    "    \n",
    "    classes = list([])\n",
    "    dbo_prefix = 'http://dbpedia.org/ontology/'\n",
    "    \n",
    "    \n",
    "    sparql = SPARQLWrapper('https://dbpedia.org/sparql')\n",
    "    sparql.setQuery(query_string)\n",
    "    \n",
    "    try:\n",
    "        sparql.setReturnFormat(JSON)\n",
    "        qres = sparql.query().convert()\n",
    "        for entity_class in qres['results']['bindings']:\n",
    "            if dbo_prefix in entity_class[list(qres['results']['bindings'][0].keys())[0]]['value']:\n",
    "                candicate_class = entity_class[list(qres['results']['bindings'][0].keys())[0]]['value'].split(dbo_prefix)[1]\n",
    "                classes.append(candicate_class)\n",
    "    except:\n",
    "        pass\n",
    "    \n",
    "    return classes\n",
    "\n",
    "def get_dbo_subclass(superClass):\n",
    "    \n",
    "    query_string = f'''\n",
    "    SELECT distinct ?subClass \n",
    "    WHERE {{ ?subClass rdfs:subClassOf dbo:{superClass}. }}\n",
    "    '''\n",
    "    return dbo_sparql_results(query_string)\n",
    "\n",
    "\n",
    "def get_dbo_superclass(subclass):\n",
    "    \n",
    "    query_string = f'''\n",
    "    SELECT distinct ?superClass \n",
    "    WHERE {{ dbo:{subclass} rdfs:subClassOf ?superClass . }}\n",
    "    '''\n",
    "    \n",
    "    return dbo_sparql_results(query_string)\n",
    "\n",
    "\n",
    "def get_dbo_superclasses(subclass):\n",
    "    classes = list([])\n",
    "    \n",
    "    try:\n",
    "        parent = get_dbo_superclass(subclass)\n",
    "    except:\n",
    "        return []\n",
    "    \n",
    "    while len(parent) > 0:\n",
    "        classes.append(parent[0])\n",
    "        parent = get_dbo_superclass(parent[0])\n",
    "    return classes\n",
    "\n",
    "get_dbo_superclasses('Actor')"
   ]
  },
  {
   "cell_type": "code",
   "execution_count": 5,
   "metadata": {},
   "outputs": [],
   "source": [
    "output_folder = 'output\\\\2019_round1\\\\'\n",
    "cnn_model_directory = os.getcwd()+'\\\\output\\\\2019_round1\\\\cnn_models'\n",
    "\n",
    "dict_predictions_top5_sliding = load_json(output_folder+'dict_predictions_top5_sliding.json')\n",
    "data = load_json(output_folder+'data.json')"
   ]
  },
  {
   "cell_type": "code",
   "execution_count": null,
   "metadata": {},
   "outputs": [],
   "source": [
    "# print(dict_predictions_top5_sliding['8468806_0_4382447409703007384']['1']['gt'])\n",
    "found_strict = 0\n",
    "found_relaxed = 0\n",
    "total = 0\n",
    "for filename in dict(itertools.islice(dict_predictions_top5_sliding.items(), 1000)):\n",
    "    index = 0\n",
    "    for col in dict_predictions_top5_sliding[filename]:\n",
    "        actual_cls = dict_predictions_top5_sliding[filename][col]['gt']\n",
    "        top1_cls = dict_predictions_top5_sliding[filename][col]['pred'][0][0]\n",
    "        if top1_cls == 'Agent':\n",
    "            try:\n",
    "                top1_cls = dict_predictions_top5_sliding[filename][col]['pred'][1][0]\n",
    "            except: pass\n",
    "            \n",
    "        offspring_cls = get_dbo_subclass(top1_cls)    \n",
    "        \n",
    "        if top1_cls == actual_cls:\n",
    "            found_strict += 1\n",
    "            found_relaxed +=1\n",
    "        elif top1_cls in get_dbo_superclasses(actual_cls):\n",
    "            found_relaxed += 0.5\n",
    "        total += 1\n",
    "        \n",
    "        \n",
    "print(f\"Found Strict: {found_strict*100/total}\")   \n",
    "print(f\"Found Relaxed: {found_relaxed*100/total}\")     \n",
    "\n",
    "\n",
    "# Found Strict: 46.2962962962963\n",
    "# Found Relaxed: 62.5"
   ]
  },
  {
   "cell_type": "code",
   "execution_count": 16,
   "metadata": {},
   "outputs": [
    {
     "name": "stdout",
     "output_type": "stream",
     "text": [
      "-----------------------------------------------\n",
      "Filename: 58891288_0_1117541047012405958\n",
      "Column: 1,Actual class: Film, Predicted Class: Work, Column Title:\n",
      "Offspring: ['Software', 'Artwork', 'Film', 'RadioProgram', 'TelevisionEpisode', 'TelevisionSeason', 'TelevisionShow', 'Website', 'WrittenWork', 'Document', 'MusicalWork', 'Database', 'CollectionOfValuables', 'LineOfFashion', 'قیمتی_اشیاء_کا_مجموعہ۔']\n",
      "Column: 3,Actual class: Person, Predicted Class: Person, Column Title:\n",
      "Offspring: ['MilitaryPerson', 'Artist', 'Athlete', 'Cleric', 'Criminal', 'Philosopher', 'Politician', 'Religious', 'Royalty', 'Writer', 'OrganisationMember', 'Presenter', 'Architect', 'Astronaut', 'BeautyQueen', 'BusinessPerson', 'Chef', 'Economist', 'Engineer', 'HorseTrainer', 'Journalist', 'Model', 'Noble', 'Scientist', 'Youtuber', 'Judge', 'PlayboyPlaymate', 'Coach', 'SportsManager', 'Monarch', 'OfficeHolder', 'Academic', 'AmericanLeader', 'Archeologist', 'Aristocrat', 'DBpedian', 'Egyptologist', 'Farmer', 'Lawyer', 'Linguist', 'Man', 'MemberResistanceMovement', 'MovieDirector', 'Pilot', 'PoliceOfficer', 'PoliticianSpouse', 'Producer', 'Psychologist', 'Referee', 'RomanEmperor', 'Spy', 'TelevisionDirector', 'TheatreDirector', 'Woman', 'اشرافیہ', 'خلا_باز', 'سیاستدان', 'ماہر_آثار_قدیمہ', 'معمار', 'پادری', 'ڈی_بی_پیڈین']\n",
      "-----------------------------------------------\n",
      "Filename: 8468806_0_4382447409703007384\n",
      "Column: 1,Actual class: Lake, Predicted Class: Location, Column Title:\n",
      "Offspring: []\n",
      "Column: 2,Actual class: Country, Predicted Class: PopulatedPlace, Column Title:\n",
      "Offspring: ['Continent', 'Settlement', 'Region', 'Country', 'Island', 'Agglomeration', 'Community', 'GatedCommunity', 'Intercommunality', 'Locality', 'State', 'Street', 'Territory']\n"
     ]
    }
   ],
   "source": [
    "# print(dict_predictions_top5_sliding['8468806_0_4382447409703007384']['1']['gt'])\n",
    "found_strict = 0\n",
    "found_relaxed = 0\n",
    "total = 0\n",
    "for filename in dict(itertools.islice(dict_predictions_top5_sliding.items(), 2)):\n",
    "    index = 0\n",
    "    print(f\"-----------------------------------------------\")\n",
    "    print(f\"Filename: {filename}\")\n",
    "    for col in dict_predictions_top5_sliding[filename]:\n",
    "        actual_cls = dict_predictions_top5_sliding[filename][col]['gt']\n",
    "        top1_cls = dict_predictions_top5_sliding[filename][col]['pred'][0][0]\n",
    "        if top1_cls == 'Agent':\n",
    "            try:\n",
    "                top1_cls = dict_predictions_top5_sliding[filename][col]['pred'][1][0]\n",
    "            except: pass\n",
    "            \n",
    "        offspring_cls = get_dbo_subclass(top1_cls)\n",
    "        print(f\"Column: {col},Actual class: {actual_cls}, Predicted Class: {top1_cls}, Column Title:\")\n",
    "        print(f\"Offspring: {get_dbo_subclass(top1_cls)}\")\n",
    "        \n",
    "        \n"
   ]
  },
  {
   "cell_type": "code",
   "execution_count": 65,
   "metadata": {},
   "outputs": [
    {
     "name": "stdout",
     "output_type": "stream",
     "text": [
      "['Continent', 'Settlement', 'Region', 'Country', 'Island', 'Agglomeration', 'Community', 'GatedCommunity', 'Intercommunality', 'Locality', 'State', 'Street', 'Territory']\n",
      "[['PopulatedPlace', 100.0], ['Settlement', 78.57], ['Location', 75.0], ['Country', 71.43], ['Place', 64.29]]\n",
      "[['Settlement', 78.57], ['Country', 71.43]]\n",
      "0.15384615384615385\n"
     ]
    }
   ],
   "source": [
    "temp = dict_predictions_top5_sliding['8468806_0_4382447409703007384']['2']['pred']\n",
    "print(get_dbo_subclass('PopulatedPlace'))\n",
    "temp = [t for t in temp if t[1]>10]\n",
    "print(temp)\n",
    "\n",
    "temp = [t for t in temp if t[0] in get_dbo_subclass('PopulatedPlace')]\n",
    "print(temp)\n",
    "\n",
    "print(len(temp)/len(get_dbo_subclass('PopulatedPlace')))"
   ]
  },
  {
   "cell_type": "code",
   "execution_count": 68,
   "metadata": {},
   "outputs": [
    {
     "name": "stdout",
     "output_type": "stream",
     "text": [
      "['HistoricalCountry']\n"
     ]
    }
   ],
   "source": [
    "print(get_dbo_subclass('Country'))"
   ]
  },
  {
   "cell_type": "code",
   "execution_count": 44,
   "metadata": {},
   "outputs": [],
   "source": [
    "# cell_values = load_json(output_folder+'cell_values.json')\n",
    "# cell_values.pop('parsed_files')\n",
    "\n",
    "cls_list = list()\n",
    "for cell in dict(itertools.islice(cell_values.items(), 200)):\n",
    "    for entity in cell_values[cell]['candidate_entities']:\n",
    "        cls_list.append(cell_values[cell]['candidate_entities'][entity]['candidate_classes'])"
   ]
  },
  {
   "cell_type": "code",
   "execution_count": 48,
   "metadata": {},
   "outputs": [
    {
     "data": {
      "text/plain": [
       "758"
      ]
     },
     "execution_count": 48,
     "metadata": {},
     "output_type": "execute_result"
    }
   ],
   "source": [
    "len(cls_list)"
   ]
  },
  {
   "cell_type": "code",
   "execution_count": 62,
   "metadata": {},
   "outputs": [
    {
     "name": "stdout",
     "output_type": "stream",
     "text": [
      "('MusicGenre', 'Agent')\n",
      "('Person', 'Artist', 'Actor', 'Agent')\n",
      "('Person', 'Royalty', 'Agent')\n",
      "('Crater',)\n",
      "('Station', 'Place', 'ArchitecturalStructure', 'Location', 'Infrastructure')\n"
     ]
    }
   ],
   "source": [
    "final_list = list()\n",
    "\n",
    "# for cls_combo in set(tuple(row) for row in cls_list):\n",
    "for cls_combo in itertools.islice(set(tuple(row) for row in cls_list), 5):\n",
    "    print(cls_combo)\n",
    "    for cls in cls_combo:\n",
    "        pass\n"
   ]
  },
  {
   "cell_type": "code",
   "execution_count": null,
   "metadata": {},
   "outputs": [],
   "source": []
  }
 ],
 "metadata": {
  "kernelspec": {
   "display_name": "Python 3",
   "language": "python",
   "name": "python3"
  },
  "language_info": {
   "codemirror_mode": {
    "name": "ipython",
    "version": 3
   },
   "file_extension": ".py",
   "mimetype": "text/x-python",
   "name": "python",
   "nbconvert_exporter": "python",
   "pygments_lexer": "ipython3",
   "version": "3.7.3"
  }
 },
 "nbformat": 4,
 "nbformat_minor": 2
}
