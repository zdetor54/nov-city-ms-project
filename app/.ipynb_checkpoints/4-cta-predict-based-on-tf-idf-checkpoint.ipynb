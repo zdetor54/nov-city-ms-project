{
 "cells": [
  {
   "cell_type": "code",
   "execution_count": 1,
   "metadata": {},
   "outputs": [],
   "source": [
    "import os\n",
    "import json\n",
    "from tqdm import tqdm\n",
    "from tensorflow import keras\n",
    "from IPython.display import clear_output\n",
    "from collections import Counter\n",
    "import time\n",
    "\n",
    "import matplotlib.pyplot as plt\n",
    "import numpy as np\n",
    "\n",
    "\n",
    "from pathlib import Path"
   ]
  },
  {
   "cell_type": "markdown",
   "metadata": {},
   "source": [
    "# Load input data\n",
    "\n",
    "* data: Tabular data + ground truth\n",
    "* dict_col_candidate_classes: a dictionary with filename_columns and in each of the an array of [(candidate_type, candidate_entity, original_cell_value, rank)]\n",
    "* type_neighours_pos_neg_samples: a dictionary that is used to train the classifiers so for each candidate class we have the neighbouring classes, positive samples from the KG and positive and negative samples from the tabular data"
   ]
  },
  {
   "cell_type": "markdown",
   "metadata": {},
   "source": [
    "# only consider candidate classes between columns that have links"
   ]
  },
  {
   "cell_type": "code",
   "execution_count": 5,
   "metadata": {},
   "outputs": [],
   "source": [
    "# Load the dictionary with the lookup results for each cell value in the tabular data\n",
    "def load_json(data_json):\n",
    "    with open(data_json) as json_file:\n",
    "        return json.load(json_file)"
   ]
  },
  {
   "cell_type": "code",
   "execution_count": 10,
   "metadata": {},
   "outputs": [],
   "source": [
    "output_folder = \"output\\\\\"\n",
    "\n",
    "\n",
    "\n",
    "data = load_json(output_folder+'data.json')\n",
    "dict_col_candidate_classes = load_json(output_folder+'dict_col_candidate_classes.json')"
   ]
  },
  {
   "cell_type": "markdown",
   "metadata": {},
   "source": [
    "# Assess lookup efficiency\n",
    "\n",
    "In this step, provided that we have the ground truth, we asses if the expected class is in the top x of the retrieved candidate classes."
   ]
  },
  {
   "cell_type": "code",
   "execution_count": 14,
   "metadata": {},
   "outputs": [],
   "source": [
    "from rdflib import Graph\n",
    "from SPARQLWrapper import SPARQLWrapper, JSON, N3\n",
    "from pprint import pprint\n",
    "import requests\n",
    "import xml.etree.ElementTree as ET"
   ]
  },
  {
   "cell_type": "code",
   "execution_count": 12,
   "metadata": {},
   "outputs": [],
   "source": [
    "def dbo_sparql_results(query_string):\n",
    "    \n",
    "    classes = list([])\n",
    "    dbo_prefix = 'http://dbpedia.org/ontology/'\n",
    "    \n",
    "    \n",
    "    sparql = SPARQLWrapper('https://dbpedia.org/sparql')\n",
    "    sparql.setQuery(query_string)\n",
    "    \n",
    "    try:\n",
    "        sparql.setReturnFormat(JSON)\n",
    "        qres = sparql.query().convert()\n",
    "        for entity_class in qres['results']['bindings']:\n",
    "            if dbo_prefix in entity_class[list(qres['results']['bindings'][0].keys())[0]]['value']:\n",
    "                candicate_class = entity_class[list(qres['results']['bindings'][0].keys())[0]]['value'].split(dbo_prefix)[1]\n",
    "                classes.append(candicate_class)\n",
    "    except:\n",
    "        pass\n",
    "    \n",
    "    return classes\n",
    "\n",
    "def get_dbo_subclass(superClass):\n",
    "    \n",
    "    query_string = f'''\n",
    "    SELECT distinct ?subClass \n",
    "    WHERE {{ ?subClass rdfs:subClassOf dbo:{superClass}. }}\n",
    "    '''\n",
    "    return dbo_sparql_results(query_string)\n",
    "\n",
    "\n",
    "def get_dbo_superclass(subclass):\n",
    "    \n",
    "    query_string = f'''\n",
    "    SELECT distinct ?superClass \n",
    "    WHERE {{ dbo:{subclass} rdfs:subClassOf ?superClass . }}\n",
    "    '''\n",
    "    \n",
    "    return dbo_sparql_results(query_string)\n",
    "\n",
    "\n",
    "def get_dbo_superclasses(subclass):\n",
    "    classes = list([])\n",
    "    \n",
    "    try:\n",
    "        parent = get_dbo_superclass(subclass)\n",
    "    except:\n",
    "        return []\n",
    "    \n",
    "    while len(parent) > 0:\n",
    "        classes.append(parent[0])\n",
    "        parent = get_dbo_superclass(parent[0])\n",
    "    return classes"
   ]
  },
  {
   "cell_type": "code",
   "execution_count": 2,
   "metadata": {},
   "outputs": [],
   "source": [
    "def lookup_assessment_considering_hr(dict_cand, threshold = 10000):\n",
    "    \"\"\"\n",
    "    This is a function that considers half a point (instead of a whole point) in case the predicted class is a parent of the expected type.\n",
    "    \"\"\"\n",
    "    found = 0\n",
    "    found_with = 0\n",
    "    parent_found = 0\n",
    "    total_columns = 0\n",
    "\n",
    "    for file in dict_cand:\n",
    "        for col in dict_cand[file]:\n",
    "            candidate_class_without_hr = [x[0] for x in dict_cand[file][col]['class_without_hr'][:threshold]]\n",
    "#             candidate_class_with_hr = dict_cand[file][col]['class_with_hr'][:threshold]\n",
    "            actual_cls = data[file]['gt'][col]\n",
    "            if actual_cls in candidate_class_without_hr:\n",
    "                found+=1\n",
    "                parent_found += 1\n",
    "            # else we give half a point in case the predicted value is in the hierarchy (i.e. parent) of the actual value\n",
    "            else:\n",
    "                parents_of_expected_type = get_dbo_superclass(actual_cls)\n",
    "                intersection = [value for value in parents_of_expected_type if value in candidate_class_without_hr]\n",
    "                if len(intersection) > 0:\n",
    "                    parent_found += 0.5\n",
    "                    \n",
    "#             if actual_cls in candidate_class_with_hr:\n",
    "#                 found_with+=1\n",
    "            total_columns+=1\n",
    "    return (round(100*found/total_columns,2),round(100*parent_found/total_columns,2))"
   ]
  },
  {
   "cell_type": "markdown",
   "metadata": {},
   "source": [
    "TF-IDF"
   ]
  },
  {
   "cell_type": "code",
   "execution_count": 3,
   "metadata": {},
   "outputs": [],
   "source": [
    "import math\n",
    "import pandas as pd\n",
    "\n",
    "def lookup_vote_tfidf(dict_col_candidate_classes,threshold=1):\n",
    "    \n",
    "    dict_tfidf = dict()\n",
    "    cls_terms = set()\n",
    "\n",
    "    for file in dict_col_candidate_classes:\n",
    "        for col in dict_col_candidate_classes[file]:\n",
    "            key = 'file_%s_col_%s' % (file,col)\n",
    "            temp = list()\n",
    "            for cls in dict_col_candidate_classes[file][col]:\n",
    "                if cls[3] <= threshold:\n",
    "                    temp.append(cls[0])\n",
    "            cls_terms = cls_terms | set(temp)\n",
    "            dict_tfidf [key] = temp\n",
    "\n",
    "    # Calculate Term Frequency\n",
    "    dict_tf = dict()\n",
    "    for t in cls_terms:\n",
    "        dict_tf[t] = dict()\n",
    "        for document in dict_tfidf:\n",
    "            try: \n",
    "                dict_tf[t][document] = dict_tfidf[document].count(t) / len(dict_tfidf[document])\n",
    "            except:\n",
    "                dict_tf[t][document] = 0\n",
    "\n",
    "    # Calculate Inverse Document Frequency\n",
    "    dict_idf = dict()\n",
    "    for t in cls_terms:\n",
    "        count_document = 0\n",
    "        for document in dict_tfidf:\n",
    "            if dict_tfidf[document].count(t) > 0:\n",
    "                count_document +=1\n",
    "        dict_idf[t] = math.log(len(dict_tfidf)/(1+count_document))\n",
    "        \n",
    "    \n",
    "    # Bring it all together to combine tf and idf\n",
    "    dict_tf_idf_pred = dict()\n",
    "    candidates_tfidf = list()\n",
    "\n",
    "    for t in dict_tf:\n",
    "        for d in dict_tf[t]:\n",
    "            if abs(dict_tf[t][d]*dict_idf[t]) > 0:\n",
    "                candidates_tfidf.append([d[5:d.find('_col_')], d[d.find('_col_')+5:],t,dict_tf[t][d],dict_idf[t],dict_tf[t][d]*dict_idf[t]])\n",
    "                \n",
    "    # Create a dataframe with the proposed candidates\n",
    "    temp = pd.DataFrame(candidates_tfidf, columns=[\"filename\",\"column\",\"cls\",\"tf\",\"idf\",\"tfidf\"])\n",
    "    \n",
    "    #Sort the values to prep them for the assessment\n",
    "    temp.sort_values(by=[\"filename\", \"column\", \"tfidf\"], ascending=False, inplace=True)\n",
    "    \n",
    "    # and finally create the structure of the dictionary\n",
    "    dict_candidate_with_tfidf = dict()\n",
    "    for row in temp.iterrows():\n",
    "        if row[1].filename not in dict_candidate_with_tfidf:\n",
    "            dict_candidate_with_tfidf[row[1].filename] = dict()\n",
    "        if row[1].column not in dict_candidate_with_tfidf[row[1].filename]:\n",
    "            dict_candidate_with_tfidf[row[1].filename][row[1].column] = dict()\n",
    "            dict_candidate_with_tfidf[row[1].filename][row[1].column]['class_without_hr'] = list()\n",
    "\n",
    "        dict_candidate_with_tfidf[row[1].filename][row[1].column]['class_without_hr'].append((row[1].cls,row[1].tfidf))\n",
    "\n",
    "    return dict_candidate_with_tfidf  "
   ]
  },
  {
   "cell_type": "code",
   "execution_count": 17,
   "metadata": {},
   "outputs": [],
   "source": [
    "dict_candidate_with_tfidf = lookup_vote_tfidf(dict_col_candidate_classes,1)\n",
    "\n",
    "with open(('output/type_prediction_tf_idf-%s.json' % time.strftime(\"%Y%m%d-%H%M%S\")), 'w') as fp:\n",
    "        json.dump(dict_candidate_with_tfidf, fp)"
   ]
  },
  {
   "cell_type": "code",
   "execution_count": 15,
   "metadata": {},
   "outputs": [
    {
     "name": "stdout",
     "output_type": "stream",
     "text": [
      "1 (76.15, 79.36)\n",
      "2 (81.65, 84.4)\n",
      "3 (87.16, 88.53)\n",
      "4 (87.16, 88.99)\n",
      "5 (88.99, 90.83)\n",
      "6 (88.99, 90.83)\n",
      "7 (90.83, 92.2)\n",
      "8 (91.74, 92.66)\n",
      "9 (92.66, 93.12)\n",
      "10 (93.58, 93.58)\n",
      "11 (93.58, 93.58)\n",
      "12 (93.58, 93.58)\n",
      "13 (93.58, 93.58)\n",
      "14 (93.58, 93.58)\n",
      "15 (93.58, 93.58)\n"
     ]
    },
    {
     "data": {
      "image/png": "[encoded data removed]",
      "text/plain": [
       "<Figure size 576x360 with 1 Axes>"
      ]
     },
     "metadata": {
      "needs_background": "light"
     },
     "output_type": "display_data"
    }
   ],
   "source": [
    "results = []\n",
    "# dict_candidate_with_tfidf = lookup_vote_tfidf(dict_col_candidate_classes,1)\n",
    "\n",
    "# then we increase the size of top list one element at a time until we reac the cap...\n",
    "for i in range(1,16):\n",
    "    (x,y) = (i, lookup_assessment_considering_hr(dict_candidate_with_tfidf, i))\n",
    "    print(x,y)\n",
    "    results.append((x,y))\n",
    "\n",
    "#... and plot the results\n",
    "fig, ax = plt.subplots(figsize=(8,5))\n",
    "ax.plot([x[0] for x in results],[x[1] for x in results])\n",
    "plt.ylabel(\"Precision (%)\")\n",
    "plt.xlabel(\"Number of top x candidate classes considered\")\n",
    "plt.title(\"Lookup Voting (rank>=5)\")\n",
    "plt.axis(ymin=0, ymax=100, xmin=1, xmax=15)\n",
    "\n",
    "plt.show()"
   ]
  },
  {
   "cell_type": "code",
   "execution_count": 16,
   "metadata": {},
   "outputs": [
    {
     "name": "stdout",
     "output_type": "stream",
     "text": [
      "1:76.15 (79.36)\n",
      "2:81.65 (84.4)\n",
      "3:87.16 (88.53)\n",
      "4:87.16 (88.99)\n",
      "5:88.99 (90.83)\n",
      "6:88.99 (90.83)\n",
      "7:90.83 (92.2)\n",
      "8:91.74 (92.66)\n",
      "9:92.66 (93.12)\n",
      "10:93.58 (93.58)\n",
      "11:93.58 (93.58)\n",
      "12:93.58 (93.58)\n",
      "13:93.58 (93.58)\n",
      "14:93.58 (93.58)\n",
      "15:93.58 (93.58)\n"
     ]
    }
   ],
   "source": [
    "for i in results:\n",
    "    print(f\"{i[0]}:{i[1][0]} ({i[1][1]})\")"
   ]
  }
 ],
 "metadata": {
  "kernelspec": {
   "display_name": "Python 3",
   "language": "python",
   "name": "python3"
  },
  "language_info": {
   "codemirror_mode": {
    "name": "ipython",
    "version": 3
   },
   "file_extension": ".py",
   "mimetype": "text/x-python",
   "name": "python",
   "nbconvert_exporter": "python",
   "pygments_lexer": "ipython3",
   "version": "3.7.3"
  }
 },
 "nbformat": 4,
 "nbformat_minor": 2
}
