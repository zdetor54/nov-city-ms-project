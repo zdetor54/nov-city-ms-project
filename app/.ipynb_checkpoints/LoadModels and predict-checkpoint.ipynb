{
 "cells": [
  {
   "cell_type": "code",
   "execution_count": 2,
   "metadata": {},
   "outputs": [],
   "source": [
    "import os\n",
    "import json\n",
    "from tqdm import tqdm\n",
    "from tensorflow import keras\n",
    "from IPython.display import clear_output\n",
    "from collections import Counter\n",
    "\n",
    "import matplotlib.pyplot as plt\n",
    "import numpy as np\n",
    "\n",
    "\n",
    "from pathlib import Path"
   ]
  },
  {
   "cell_type": "code",
   "execution_count": 3,
   "metadata": {},
   "outputs": [],
   "source": [
    "Path(os.getcwd()+\"\\output\\cnn_models\").mkdir(parents=True, exist_ok=True)"
   ]
  },
  {
   "cell_type": "markdown",
   "metadata": {},
   "source": [
    "# Load input data\n",
    "\n",
    "* data: Tabular data + ground truth\n",
    "* dict_col_candidate_classes: a dictionary with filename_columns and in each of the an array of [(candidate_type, candidate_entity, original_cell_value, rank)]\n",
    "* type_neighours_pos_neg_samples: a dictionary that is used to train the classifiers so for each candidate class we have the neighbouring classes, positive samples from the KG and positive and negative samples from the tabular data"
   ]
  },
  {
   "cell_type": "code",
   "execution_count": 4,
   "metadata": {},
   "outputs": [],
   "source": [
    "# Load the dictionary with the lookup results for each cell value in the tabular data\n",
    "def load_json(data_json):\n",
    "    with open(data_json) as json_file:\n",
    "        return json.load(json_file)"
   ]
  },
  {
   "cell_type": "code",
   "execution_count": 9,
   "metadata": {},
   "outputs": [],
   "source": [
    "output_folder = 'output\\\\20212203\\\\'\n",
    "data = load_json(output_folder+'data.json')\n",
    "dict_col_candidate_classes = load_json(output_folder+'dict_col_candidate_classes.json')\n",
    "# type_neighours_pos_neg_samples = load_json(output_folder+'type_neighours_pos_neg_samples.json')"
   ]
  },
  {
   "cell_type": "markdown",
   "metadata": {},
   "source": [
    "# Assess lookup efficiency\n",
    "\n",
    "In this step, provided that we have the ground truth, we asses if the expected class is in the top x of the retrieved candidate classes."
   ]
  },
  {
   "cell_type": "code",
   "execution_count": 10,
   "metadata": {},
   "outputs": [],
   "source": [
    "def lookup_assessment(dict_col_candidate_classes, threshold = 10000):\n",
    "    found = 0\n",
    "    total_columns = 0\n",
    "    for file in data:\n",
    "        filename = file['filename']\n",
    "        for col in file['gt']:\n",
    "            actual_cls = file['gt'][col]\n",
    "            candidate_cls = Counter([i[0] for i in dict_col_candidate_classes[filename][col]]).most_common()[:threshold]\n",
    "#             print (filename, col, actual_cls, candidate_cls)\n",
    "            if actual_cls in dict(candidate_cls):\n",
    "                found+=1\n",
    "            total_columns+=1\n",
    "    return round(100*found/total_columns,2)"
   ]
  },
  {
   "cell_type": "code",
   "execution_count": 11,
   "metadata": {},
   "outputs": [
    {
     "data": {
      "image/png": "[encoded data removed]",
      "text/plain": [
       "<Figure size 432x288 with 1 Axes>"
      ]
     },
     "metadata": {
      "needs_background": "light"
     },
     "output_type": "display_data"
    }
   ],
   "source": [
    "results = []\n",
    "\n",
    "# first we calculate the max number of candidates across all the columns in the tabular data so we cap the range\n",
    "max_cand = 0\n",
    "for file in dict_col_candidate_classes:\n",
    "    for col in dict_col_candidate_classes[file]:\n",
    "        \n",
    "        candidate_cls = set()\n",
    "        for element in dict_col_candidate_classes[file][col]:\n",
    "            candidate_cls.add(element[0])\n",
    "        if len(candidate_cls) > max_cand:\n",
    "            max_cand = len(candidate_cls)\n",
    "\n",
    "# the we increase the size of top list one element at a time until we reac the cap...\n",
    "for i in range(max_cand):\n",
    "    (x,y) = (i, lookup_assessment(dict_col_candidate_classes,i))\n",
    "    results.append((x,y))\n",
    "\n",
    "#... and plot the results\n",
    "fig, ax = plt.subplots()\n",
    "ax.plot([x[0] for x in results],[x[1] for x in results])\n",
    "plt.show()"
   ]
  },
  {
   "cell_type": "code",
   "execution_count": 12,
   "metadata": {},
   "outputs": [
    {
     "data": {
      "text/plain": [
       "[(0, 0.0),\n",
       " (1, 2.75),\n",
       " (2, 24.77),\n",
       " (3, 47.71),\n",
       " (4, 64.22),\n",
       " (5, 71.56),\n",
       " (6, 76.15),\n",
       " (7, 77.06),\n",
       " (8, 78.9),\n",
       " (9, 79.82),\n",
       " (10, 82.57),\n",
       " (11, 82.57),\n",
       " (12, 82.57),\n",
       " (13, 82.57),\n",
       " (14, 86.24),\n",
       " (15, 86.24),\n",
       " (16, 88.07),\n",
       " (17, 88.99),\n",
       " (18, 89.91),\n",
       " (19, 89.91),\n",
       " (20, 91.74),\n",
       " (21, 91.74),\n",
       " (22, 91.74),\n",
       " (23, 91.74),\n",
       " (24, 91.74),\n",
       " (25, 91.74),\n",
       " (26, 91.74),\n",
       " (27, 92.66),\n",
       " (28, 92.66),\n",
       " (29, 92.66),\n",
       " (30, 92.66),\n",
       " (31, 92.66),\n",
       " (32, 92.66),\n",
       " (33, 92.66),\n",
       " (34, 92.66),\n",
       " (35, 92.66),\n",
       " (36, 92.66),\n",
       " (37, 92.66),\n",
       " (38, 92.66),\n",
       " (39, 93.58),\n",
       " (40, 93.58),\n",
       " (41, 93.58),\n",
       " (42, 93.58),\n",
       " (43, 93.58),\n",
       " (44, 93.58),\n",
       " (45, 93.58),\n",
       " (46, 93.58),\n",
       " (47, 93.58),\n",
       " (48, 93.58),\n",
       " (49, 93.58),\n",
       " (50, 93.58),\n",
       " (51, 93.58),\n",
       " (52, 94.5),\n",
       " (53, 94.5),\n",
       " (54, 94.5),\n",
       " (55, 94.5),\n",
       " (56, 94.5),\n",
       " (57, 94.5),\n",
       " (58, 94.5),\n",
       " (59, 94.5),\n",
       " (60, 94.5),\n",
       " (61, 94.5),\n",
       " (62, 94.5),\n",
       " (63, 94.5),\n",
       " (64, 94.5),\n",
       " (65, 94.5),\n",
       " (66, 94.5),\n",
       " (67, 94.5),\n",
       " (68, 94.5),\n",
       " (69, 94.5),\n",
       " (70, 94.5),\n",
       " (71, 94.5),\n",
       " (72, 94.5),\n",
       " (73, 94.5),\n",
       " (74, 94.5),\n",
       " (75, 94.5),\n",
       " (76, 94.5),\n",
       " (77, 94.5),\n",
       " (78, 94.5),\n",
       " (79, 94.5),\n",
       " (80, 94.5),\n",
       " (81, 94.5),\n",
       " (82, 94.5),\n",
       " (83, 94.5),\n",
       " (84, 94.5),\n",
       " (85, 94.5),\n",
       " (86, 94.5),\n",
       " (87, 94.5),\n",
       " (88, 94.5),\n",
       " (89, 94.5),\n",
       " (90, 94.5),\n",
       " (91, 94.5),\n",
       " (92, 94.5),\n",
       " (93, 94.5),\n",
       " (94, 94.5),\n",
       " (95, 94.5),\n",
       " (96, 94.5),\n",
       " (97, 94.5),\n",
       " (98, 94.5),\n",
       " (99, 94.5),\n",
       " (100, 94.5),\n",
       " (101, 94.5),\n",
       " (102, 94.5),\n",
       " (103, 94.5),\n",
       " (104, 94.5),\n",
       " (105, 94.5),\n",
       " (106, 94.5)]"
      ]
     },
     "execution_count": 12,
     "metadata": {},
     "output_type": "execute_result"
    }
   ],
   "source": [
    "results"
   ]
  },
  {
   "cell_type": "code",
   "execution_count": null,
   "metadata": {},
   "outputs": [],
   "source": []
  },
  {
   "cell_type": "code",
   "execution_count": null,
   "metadata": {},
   "outputs": [],
   "source": []
  },
  {
   "cell_type": "code",
   "execution_count": null,
   "metadata": {},
   "outputs": [],
   "source": []
  },
  {
   "cell_type": "code",
   "execution_count": null,
   "metadata": {},
   "outputs": [],
   "source": []
  },
  {
   "cell_type": "code",
   "execution_count": null,
   "metadata": {},
   "outputs": [],
   "source": []
  },
  {
   "cell_type": "code",
   "execution_count": null,
   "metadata": {},
   "outputs": [],
   "source": []
  },
  {
   "cell_type": "code",
   "execution_count": null,
   "metadata": {},
   "outputs": [],
   "source": []
  },
  {
   "cell_type": "code",
   "execution_count": null,
   "metadata": {},
   "outputs": [],
   "source": []
  },
  {
   "cell_type": "code",
   "execution_count": null,
   "metadata": {},
   "outputs": [],
   "source": []
  },
  {
   "cell_type": "code",
   "execution_count": null,
   "metadata": {},
   "outputs": [],
   "source": []
  },
  {
   "cell_type": "code",
   "execution_count": null,
   "metadata": {},
   "outputs": [],
   "source": []
  },
  {
   "cell_type": "markdown",
   "metadata": {},
   "source": [
    "Retrieve all folders under the cnn_models root"
   ]
  },
  {
   "cell_type": "code",
   "execution_count": 5,
   "metadata": {},
   "outputs": [],
   "source": [
    "# change the directory to where the models are\n",
    "cnn_model_directory = os.getcwd()+'\\\\output\\\\cnn_models'"
   ]
  },
  {
   "cell_type": "code",
   "execution_count": 6,
   "metadata": {},
   "outputs": [
    {
     "data": {
      "text/plain": [
       "[]"
      ]
     },
     "execution_count": 6,
     "metadata": {},
     "output_type": "execute_result"
    }
   ],
   "source": [
    "def get_cnn_models(directory):\n",
    "    temp = [x[0] for x in os.walk(directory)]\n",
    "    temp.remove(directory)\n",
    "    return set([x.replace(directory+'\\\\','').split('\\\\')[0] for x in temp])\n",
    "\n",
    "trained_models = list(get_cnn_models(cnn_model_directory))\n",
    "trained_models"
   ]
  },
  {
   "cell_type": "code",
   "execution_count": 7,
   "metadata": {},
   "outputs": [],
   "source": [
    "def load_model(cnn_model_directory, candidate_class):\n",
    "    return keras.models.load_model(cnn_model_directory+'\\%s' % candidate_class)\n",
    "\n",
    "# model = load_model(cnn_model_directory, 'Astronaut')"
   ]
  },
  {
   "cell_type": "code",
   "execution_count": 8,
   "metadata": {},
   "outputs": [],
   "source": [
    "# model.summary()"
   ]
  },
  {
   "cell_type": "code",
   "execution_count": 12,
   "metadata": {},
   "outputs": [],
   "source": [
    "# results"
   ]
  },
  {
   "cell_type": "code",
   "execution_count": null,
   "metadata": {},
   "outputs": [],
   "source": []
  }
 ],
 "metadata": {
  "kernelspec": {
   "display_name": "Python 3",
   "language": "python",
   "name": "python3"
  },
  "language_info": {
   "codemirror_mode": {
    "name": "ipython",
    "version": 3
   },
   "file_extension": ".py",
   "mimetype": "text/x-python",
   "name": "python",
   "nbconvert_exporter": "python",
   "pygments_lexer": "ipython3",
   "version": "3.7.3"
  }
 },
 "nbformat": 4,
 "nbformat_minor": 2
}
