{
 "cells": [
  {
   "cell_type": "code",
   "execution_count": 3,
   "metadata": {},
   "outputs": [],
   "source": [
    "import os\n",
    "import json\n",
    "from tqdm import tqdm\n",
    "from tensorflow import keras\n",
    "from IPython.display import clear_output\n",
    "from collections import Counter\n",
    "\n",
    "import matplotlib.pyplot as plt\n",
    "import numpy as np\n",
    "\n",
    "\n",
    "from pathlib import Path"
   ]
  },
  {
   "cell_type": "code",
   "execution_count": 4,
   "metadata": {},
   "outputs": [],
   "source": [
    "Path(os.getcwd()+\"\\output\\cnn_models\").mkdir(parents=True, exist_ok=True)"
   ]
  },
  {
   "cell_type": "markdown",
   "metadata": {},
   "source": [
    "# Load input data\n",
    "\n",
    "* data: Tabular data + ground truth\n",
    "* dict_col_candidate_classes: a dictionary with filename_columns and in each of the an array of [(candidate_type, candidate_entity, original_cell_value, rank)]\n",
    "* type_neighours_pos_neg_samples: a dictionary that is used to train the classifiers so for each candidate class we have the neighbouring classes, positive samples from the KG and positive and negative samples from the tabular data"
   ]
  },
  {
   "cell_type": "code",
   "execution_count": 5,
   "metadata": {},
   "outputs": [],
   "source": [
    "# Load the dictionary with the lookup results for each cell value in the tabular data\n",
    "def load_json(data_json):\n",
    "    with open(data_json) as json_file:\n",
    "        return json.load(json_file)"
   ]
  },
  {
   "cell_type": "code",
   "execution_count": 11,
   "metadata": {},
   "outputs": [],
   "source": [
    "output_folder = 'output\\\\'\n",
    "data = load_json(output_folder+'data.json')\n",
    "dict_col_candidate_classes = load_json(output_folder+'dict_col_candidate_classes.json')\n",
    "# type_neighours_pos_neg_samples = load_json(output_folder+'type_neighours_pos_neg_samples.json')"
   ]
  },
  {
   "cell_type": "markdown",
   "metadata": {},
   "source": [
    "# Assess lookup efficiency\n",
    "\n",
    "In this step, provided that we have the ground truth, we asses if the expected class is in the top x of the retrieved candidate classes."
   ]
  },
  {
   "cell_type": "code",
   "execution_count": 12,
   "metadata": {},
   "outputs": [],
   "source": [
    "def lookup_assessment(dict_col_candidate_classes, threshold = 10000):\n",
    "    found = 0\n",
    "    total_columns = 0\n",
    "    for file in data:\n",
    "        filename = file['filename']\n",
    "        for col in file['gt']:\n",
    "            actual_cls = file['gt'][col]\n",
    "            candidate_cls = Counter([i[0] for i in dict_col_candidate_classes[filename][col]]).most_common()[:threshold]\n",
    "#             print (filename, col, actual_cls, candidate_cls)\n",
    "            if actual_cls in dict(candidate_cls):\n",
    "                found+=1\n",
    "            total_columns+=1\n",
    "    return round(100*found/total_columns,2)"
   ]
  },
  {
   "cell_type": "code",
   "execution_count": 13,
   "metadata": {},
   "outputs": [
    {
     "data": {
      "image/png": "[encoded data removed]",
      "text/plain": [
       "<Figure size 432x288 with 1 Axes>"
      ]
     },
     "metadata": {
      "needs_background": "light"
     },
     "output_type": "display_data"
    }
   ],
   "source": [
    "results = []\n",
    "\n",
    "# first we calculate the max number of candidates across all the columns in the tabular data so we cap the range\n",
    "max_cand = 0\n",
    "for file in dict_col_candidate_classes:\n",
    "    for col in dict_col_candidate_classes[file]:\n",
    "        \n",
    "        candidate_cls = set()\n",
    "        for element in dict_col_candidate_classes[file][col]:\n",
    "            candidate_cls.add(element[0])\n",
    "        if len(candidate_cls) > max_cand:\n",
    "            max_cand = len(candidate_cls)\n",
    "\n",
    "# the we increase the size of top list one element at a time until we reac the cap...\n",
    "for i in range(max_cand):\n",
    "    (x,y) = (i, lookup_assessment(dict_col_candidate_classes,i))\n",
    "    results.append((x,y))\n",
    "\n",
    "#... and plot the results\n",
    "fig, ax = plt.subplots()\n",
    "ax.plot([x[0] for x in results],[x[1] for x in results])\n",
    "plt.show()"
   ]
  },
  {
   "cell_type": "code",
   "execution_count": 14,
   "metadata": {},
   "outputs": [
    {
     "data": {
      "text/plain": [
       "[(0, 0.0),\n",
       " (1, 18.35),\n",
       " (2, 48.62),\n",
       " (3, 62.39),\n",
       " (4, 77.06),\n",
       " (5, 84.4),\n",
       " (6, 85.32),\n",
       " (7, 88.99),\n",
       " (8, 88.99),\n",
       " (9, 89.91),\n",
       " (10, 91.74),\n",
       " (11, 91.74),\n",
       " (12, 93.58),\n",
       " (13, 93.58),\n",
       " (14, 93.58),\n",
       " (15, 94.5),\n",
       " (16, 94.5),\n",
       " (17, 94.5),\n",
       " (18, 94.5),\n",
       " (19, 95.41),\n",
       " (20, 95.41),\n",
       " (21, 95.41),\n",
       " (22, 95.41),\n",
       " (23, 95.41),\n",
       " (24, 95.41),\n",
       " (25, 95.41),\n",
       " (26, 95.41),\n",
       " (27, 95.41),\n",
       " (28, 95.41),\n",
       " (29, 95.41),\n",
       " (30, 95.41),\n",
       " (31, 95.41),\n",
       " (32, 95.41),\n",
       " (33, 95.41),\n",
       " (34, 95.41),\n",
       " (35, 95.41),\n",
       " (36, 95.41),\n",
       " (37, 95.41),\n",
       " (38, 95.41),\n",
       " (39, 95.41),\n",
       " (40, 95.41),\n",
       " (41, 95.41),\n",
       " (42, 95.41),\n",
       " (43, 95.41),\n",
       " (44, 95.41),\n",
       " (45, 95.41),\n",
       " (46, 95.41),\n",
       " (47, 95.41),\n",
       " (48, 95.41),\n",
       " (49, 95.41),\n",
       " (50, 95.41),\n",
       " (51, 95.41),\n",
       " (52, 95.41),\n",
       " (53, 95.41),\n",
       " (54, 95.41),\n",
       " (55, 95.41),\n",
       " (56, 95.41),\n",
       " (57, 95.41),\n",
       " (58, 95.41),\n",
       " (59, 95.41),\n",
       " (60, 95.41),\n",
       " (61, 95.41),\n",
       " (62, 95.41),\n",
       " (63, 95.41),\n",
       " (64, 95.41),\n",
       " (65, 95.41),\n",
       " (66, 95.41),\n",
       " (67, 95.41),\n",
       " (68, 95.41),\n",
       " (69, 95.41),\n",
       " (70, 95.41),\n",
       " (71, 95.41),\n",
       " (72, 95.41),\n",
       " (73, 95.41),\n",
       " (74, 95.41),\n",
       " (75, 95.41),\n",
       " (76, 95.41),\n",
       " (77, 95.41),\n",
       " (78, 95.41),\n",
       " (79, 95.41),\n",
       " (80, 95.41),\n",
       " (81, 95.41),\n",
       " (82, 95.41),\n",
       " (83, 95.41),\n",
       " (84, 95.41),\n",
       " (85, 95.41),\n",
       " (86, 95.41),\n",
       " (87, 95.41),\n",
       " (88, 95.41),\n",
       " (89, 95.41),\n",
       " (90, 95.41),\n",
       " (91, 95.41),\n",
       " (92, 95.41),\n",
       " (93, 95.41),\n",
       " (94, 95.41),\n",
       " (95, 95.41),\n",
       " (96, 95.41),\n",
       " (97, 95.41),\n",
       " (98, 95.41),\n",
       " (99, 95.41),\n",
       " (100, 95.41),\n",
       " (101, 95.41),\n",
       " (102, 95.41),\n",
       " (103, 95.41),\n",
       " (104, 95.41),\n",
       " (105, 95.41),\n",
       " (106, 95.41),\n",
       " (107, 95.41),\n",
       " (108, 95.41),\n",
       " (109, 95.41),\n",
       " (110, 95.41),\n",
       " (111, 95.41),\n",
       " (112, 95.41),\n",
       " (113, 95.41),\n",
       " (114, 95.41),\n",
       " (115, 95.41),\n",
       " (116, 95.41),\n",
       " (117, 95.41),\n",
       " (118, 95.41),\n",
       " (119, 95.41),\n",
       " (120, 95.41),\n",
       " (121, 95.41),\n",
       " (122, 95.41),\n",
       " (123, 95.41),\n",
       " (124, 95.41),\n",
       " (125, 95.41),\n",
       " (126, 95.41),\n",
       " (127, 95.41),\n",
       " (128, 95.41),\n",
       " (129, 95.41)]"
      ]
     },
     "execution_count": 14,
     "metadata": {},
     "output_type": "execute_result"
    }
   ],
   "source": [
    "results"
   ]
  },
  {
   "cell_type": "code",
   "execution_count": null,
   "metadata": {},
   "outputs": [],
   "source": []
  },
  {
   "cell_type": "code",
   "execution_count": null,
   "metadata": {},
   "outputs": [],
   "source": []
  },
  {
   "cell_type": "code",
   "execution_count": null,
   "metadata": {},
   "outputs": [],
   "source": []
  },
  {
   "cell_type": "code",
   "execution_count": null,
   "metadata": {},
   "outputs": [],
   "source": []
  },
  {
   "cell_type": "code",
   "execution_count": null,
   "metadata": {},
   "outputs": [],
   "source": []
  },
  {
   "cell_type": "code",
   "execution_count": null,
   "metadata": {},
   "outputs": [],
   "source": []
  },
  {
   "cell_type": "code",
   "execution_count": null,
   "metadata": {},
   "outputs": [],
   "source": []
  },
  {
   "cell_type": "code",
   "execution_count": null,
   "metadata": {},
   "outputs": [],
   "source": []
  },
  {
   "cell_type": "code",
   "execution_count": null,
   "metadata": {},
   "outputs": [],
   "source": []
  },
  {
   "cell_type": "code",
   "execution_count": null,
   "metadata": {},
   "outputs": [],
   "source": []
  },
  {
   "cell_type": "code",
   "execution_count": null,
   "metadata": {},
   "outputs": [],
   "source": []
  },
  {
   "cell_type": "markdown",
   "metadata": {},
   "source": [
    "Retrieve all folders under the cnn_models root"
   ]
  },
  {
   "cell_type": "code",
   "execution_count": null,
   "metadata": {},
   "outputs": [],
   "source": [
    "# change the directory to where the models are\n",
    "cnn_model_directory = os.getcwd()+'\\\\output\\\\cnn_models'"
   ]
  },
  {
   "cell_type": "code",
   "execution_count": null,
   "metadata": {},
   "outputs": [],
   "source": [
    "def get_cnn_models(directory):\n",
    "    temp = [x[0] for x in os.walk(directory)]\n",
    "    temp.remove(directory)\n",
    "    return set([x.replace(directory+'\\\\','').split('\\\\')[0] for x in temp])\n",
    "\n",
    "trained_models = list(get_cnn_models(cnn_model_directory))\n",
    "trained_models"
   ]
  },
  {
   "cell_type": "code",
   "execution_count": null,
   "metadata": {},
   "outputs": [],
   "source": [
    "def load_model(cnn_model_directory, candidate_class):\n",
    "    return keras.models.load_model(cnn_model_directory+'\\%s' % candidate_class)\n",
    "\n",
    "# model = load_model(cnn_model_directory, 'Astronaut')"
   ]
  },
  {
   "cell_type": "code",
   "execution_count": null,
   "metadata": {},
   "outputs": [],
   "source": [
    "# model.summary()"
   ]
  },
  {
   "cell_type": "code",
   "execution_count": null,
   "metadata": {},
   "outputs": [],
   "source": [
    "# results"
   ]
  },
  {
   "cell_type": "code",
   "execution_count": null,
   "metadata": {},
   "outputs": [],
   "source": []
  }
 ],
 "metadata": {
  "kernelspec": {
   "display_name": "Python 3",
   "language": "python",
   "name": "python3"
  },
  "language_info": {
   "codemirror_mode": {
    "name": "ipython",
    "version": 3
   },
   "file_extension": ".py",
   "mimetype": "text/x-python",
   "name": "python",
   "nbconvert_exporter": "python",
   "pygments_lexer": "ipython3",
   "version": "3.7.3"
  }
 },
 "nbformat": 4,
 "nbformat_minor": 2
}
