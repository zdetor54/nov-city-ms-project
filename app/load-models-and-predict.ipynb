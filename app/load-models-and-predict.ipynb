{
 "cells": [
  {
   "cell_type": "code",
   "execution_count": 1,
   "metadata": {},
   "outputs": [
    {
     "name": "stderr",
     "output_type": "stream",
     "text": [
      "C:\\Users\\zacharias.detorakis\\AppData\\Local\\Continuum\\anaconda3\\lib\\site-packages\\sklearn\\feature_extraction\\image.py:167: DeprecationWarning: `np.int` is a deprecated alias for the builtin `int`. To silence this warning, use `int` by itself. Doing this will not modify any behavior and is safe. When replacing `np.int`, you may wish to use e.g. `np.int64` or `np.int32` to specify the precision. If you wish to review your current use, check the release note link for additional information.\n",
      "Deprecated in NumPy 1.20; for more details and guidance: https://numpy.org/devdocs/release/1.20.0-notes.html#deprecations\n",
      "  dtype=np.int):\n",
      "C:\\Users\\zacharias.detorakis\\AppData\\Local\\Continuum\\anaconda3\\lib\\site-packages\\sklearn\\linear_model\\least_angle.py:35: DeprecationWarning: `np.float` is a deprecated alias for the builtin `float`. To silence this warning, use `float` by itself. Doing this will not modify any behavior and is safe. If you specifically wanted the numpy scalar type, use `np.float64` here.\n",
      "Deprecated in NumPy 1.20; for more details and guidance: https://numpy.org/devdocs/release/1.20.0-notes.html#deprecations\n",
      "  eps=np.finfo(np.float).eps,\n",
      "C:\\Users\\zacharias.detorakis\\AppData\\Local\\Continuum\\anaconda3\\lib\\site-packages\\sklearn\\linear_model\\least_angle.py:597: DeprecationWarning: `np.float` is a deprecated alias for the builtin `float`. To silence this warning, use `float` by itself. Doing this will not modify any behavior and is safe. If you specifically wanted the numpy scalar type, use `np.float64` here.\n",
      "Deprecated in NumPy 1.20; for more details and guidance: https://numpy.org/devdocs/release/1.20.0-notes.html#deprecations\n",
      "  eps=np.finfo(np.float).eps, copy_X=True, fit_path=True,\n",
      "C:\\Users\\zacharias.detorakis\\AppData\\Local\\Continuum\\anaconda3\\lib\\site-packages\\sklearn\\linear_model\\least_angle.py:836: DeprecationWarning: `np.float` is a deprecated alias for the builtin `float`. To silence this warning, use `float` by itself. Doing this will not modify any behavior and is safe. If you specifically wanted the numpy scalar type, use `np.float64` here.\n",
      "Deprecated in NumPy 1.20; for more details and guidance: https://numpy.org/devdocs/release/1.20.0-notes.html#deprecations\n",
      "  eps=np.finfo(np.float).eps, copy_X=True, fit_path=True,\n",
      "C:\\Users\\zacharias.detorakis\\AppData\\Local\\Continuum\\anaconda3\\lib\\site-packages\\sklearn\\linear_model\\least_angle.py:862: DeprecationWarning: `np.float` is a deprecated alias for the builtin `float`. To silence this warning, use `float` by itself. Doing this will not modify any behavior and is safe. If you specifically wanted the numpy scalar type, use `np.float64` here.\n",
      "Deprecated in NumPy 1.20; for more details and guidance: https://numpy.org/devdocs/release/1.20.0-notes.html#deprecations\n",
      "  eps=np.finfo(np.float).eps, positive=False):\n",
      "C:\\Users\\zacharias.detorakis\\AppData\\Local\\Continuum\\anaconda3\\lib\\site-packages\\sklearn\\linear_model\\least_angle.py:1097: DeprecationWarning: `np.float` is a deprecated alias for the builtin `float`. To silence this warning, use `float` by itself. Doing this will not modify any behavior and is safe. If you specifically wanted the numpy scalar type, use `np.float64` here.\n",
      "Deprecated in NumPy 1.20; for more details and guidance: https://numpy.org/devdocs/release/1.20.0-notes.html#deprecations\n",
      "  max_n_alphas=1000, n_jobs=None, eps=np.finfo(np.float).eps,\n",
      "C:\\Users\\zacharias.detorakis\\AppData\\Local\\Continuum\\anaconda3\\lib\\site-packages\\sklearn\\linear_model\\least_angle.py:1344: DeprecationWarning: `np.float` is a deprecated alias for the builtin `float`. To silence this warning, use `float` by itself. Doing this will not modify any behavior and is safe. If you specifically wanted the numpy scalar type, use `np.float64` here.\n",
      "Deprecated in NumPy 1.20; for more details and guidance: https://numpy.org/devdocs/release/1.20.0-notes.html#deprecations\n",
      "  max_n_alphas=1000, n_jobs=None, eps=np.finfo(np.float).eps,\n",
      "C:\\Users\\zacharias.detorakis\\AppData\\Local\\Continuum\\anaconda3\\lib\\site-packages\\sklearn\\linear_model\\least_angle.py:1480: DeprecationWarning: `np.float` is a deprecated alias for the builtin `float`. To silence this warning, use `float` by itself. Doing this will not modify any behavior and is safe. If you specifically wanted the numpy scalar type, use `np.float64` here.\n",
      "Deprecated in NumPy 1.20; for more details and guidance: https://numpy.org/devdocs/release/1.20.0-notes.html#deprecations\n",
      "  eps=np.finfo(np.float).eps, copy_X=True, positive=False):\n",
      "C:\\Users\\zacharias.detorakis\\AppData\\Local\\Continuum\\anaconda3\\lib\\site-packages\\sklearn\\linear_model\\randomized_l1.py:152: DeprecationWarning: `np.float` is a deprecated alias for the builtin `float`. To silence this warning, use `float` by itself. Doing this will not modify any behavior and is safe. If you specifically wanted the numpy scalar type, use `np.float64` here.\n",
      "Deprecated in NumPy 1.20; for more details and guidance: https://numpy.org/devdocs/release/1.20.0-notes.html#deprecations\n",
      "  precompute=False, eps=np.finfo(np.float).eps,\n",
      "C:\\Users\\zacharias.detorakis\\AppData\\Local\\Continuum\\anaconda3\\lib\\site-packages\\sklearn\\linear_model\\randomized_l1.py:320: DeprecationWarning: `np.float` is a deprecated alias for the builtin `float`. To silence this warning, use `float` by itself. Doing this will not modify any behavior and is safe. If you specifically wanted the numpy scalar type, use `np.float64` here.\n",
      "Deprecated in NumPy 1.20; for more details and guidance: https://numpy.org/devdocs/release/1.20.0-notes.html#deprecations\n",
      "  eps=np.finfo(np.float).eps, random_state=None,\n",
      "C:\\Users\\zacharias.detorakis\\AppData\\Local\\Continuum\\anaconda3\\lib\\site-packages\\sklearn\\linear_model\\randomized_l1.py:580: DeprecationWarning: `np.float` is a deprecated alias for the builtin `float`. To silence this warning, use `float` by itself. Doing this will not modify any behavior and is safe. If you specifically wanted the numpy scalar type, use `np.float64` here.\n",
      "Deprecated in NumPy 1.20; for more details and guidance: https://numpy.org/devdocs/release/1.20.0-notes.html#deprecations\n",
      "  eps=4 * np.finfo(np.float).eps, n_jobs=None,\n"
     ]
    }
   ],
   "source": [
    "import os\n",
    "import json\n",
    "import itertools\n",
    "from tqdm import tqdm\n",
    "from tensorflow import keras\n",
    "from IPython.display import clear_output\n",
    "\n",
    "from pattern.text.en import tokenize\n",
    "from gensim.models import Word2Vec"
   ]
  },
  {
   "cell_type": "code",
   "execution_count": 2,
   "metadata": {},
   "outputs": [],
   "source": [
    "import argparse\n",
    "\n",
    "parser = argparse.ArgumentParser()\n",
    "\n",
    "parser.add_argument(\n",
    "    '--synthetic_column_size',\n",
    "    type=int,\n",
    "    default=10,\n",
    "    help='Size of synthetic column')\n",
    "parser.add_argument(\n",
    "    '--sequence_size',\n",
    "    type=int,\n",
    "    default=30,\n",
    "    help='Length of word sequence of synthetic column')\n",
    "parser.add_argument(\n",
    "    '--model_dir',\n",
    "    type=str,\n",
    "    default=os.path.abspath('C:/Users/zacharias.detorakis/Desktop/nov-city-ms-project/app/w2v_model/enwiki_model'),\n",
    "#     default='/w2v_model/enwiki_model/',\n",
    "    help='Directory of word2vec model')\n",
    "FLAGS, unparsed = parser.parse_known_args()"
   ]
  },
  {
   "cell_type": "code",
   "execution_count": 3,
   "metadata": {},
   "outputs": [],
   "source": [
    "# Path(os.getcwd()+\"\\output\\cnn_models\").mkdir(parents=True, exist_ok=True)"
   ]
  },
  {
   "cell_type": "markdown",
   "metadata": {},
   "source": [
    "# Load input data\n",
    "\n",
    "* data: Tabular data + ground truth\n",
    "* dict_col_candidate_classes: a dictionary with filename_columns and in each of the an array of [(candidate_type, candidate_entity, original_cell_value, rank)]\n",
    "* type_neighours_pos_neg_samples: a dictionary that is used to train the classifiers so for each candidate class we have the neighbouring classes, positive samples from the KG and positive and negative samples from the tabular data"
   ]
  },
  {
   "cell_type": "code",
   "execution_count": 4,
   "metadata": {},
   "outputs": [],
   "source": [
    "# Load the dictionary with the lookup results for each cell value in the tabular data\n",
    "def load_json(data_json):\n",
    "    with open(data_json) as json_file:\n",
    "        return json.load(json_file)"
   ]
  },
  {
   "cell_type": "code",
   "execution_count": 5,
   "metadata": {},
   "outputs": [
    {
     "ename": "FileNotFoundError",
     "evalue": "[Errno 2] No such file or directory: 'output\\\\dict_cand.json'",
     "output_type": "error",
     "traceback": [
      "\u001b[1;31m---------------------------------------------------------------------------\u001b[0m",
      "\u001b[1;31mFileNotFoundError\u001b[0m                         Traceback (most recent call last)",
      "\u001b[1;32m<ipython-input-5-4f43181611b1>\u001b[0m in \u001b[0;36m<module>\u001b[1;34m\u001b[0m\n\u001b[0;32m      6\u001b[0m \u001b[1;31m# dict_col_candidate_classes = load_json(output_folder+'dict_col_candidate_classes.json')\u001b[0m\u001b[1;33m\u001b[0m\u001b[1;33m\u001b[0m\u001b[1;33m\u001b[0m\u001b[0m\n\u001b[0;32m      7\u001b[0m \u001b[0mtype_neighours_pos_neg_samples\u001b[0m \u001b[1;33m=\u001b[0m \u001b[0mload_json\u001b[0m\u001b[1;33m(\u001b[0m\u001b[0moutput_folder\u001b[0m\u001b[1;33m+\u001b[0m\u001b[1;34m'type_neighours_pos_neg_samples.json'\u001b[0m\u001b[1;33m)\u001b[0m\u001b[1;33m\u001b[0m\u001b[1;33m\u001b[0m\u001b[0m\n\u001b[1;32m----> 8\u001b[1;33m \u001b[0mdict_cand\u001b[0m \u001b[1;33m=\u001b[0m \u001b[0mload_json\u001b[0m\u001b[1;33m(\u001b[0m\u001b[0moutput_folder\u001b[0m\u001b[1;33m+\u001b[0m\u001b[1;34m'dict_cand.json'\u001b[0m\u001b[1;33m)\u001b[0m\u001b[1;33m\u001b[0m\u001b[1;33m\u001b[0m\u001b[0m\n\u001b[0m",
      "\u001b[1;32m<ipython-input-4-d13e1d40c0d2>\u001b[0m in \u001b[0;36mload_json\u001b[1;34m(data_json)\u001b[0m\n\u001b[0;32m      1\u001b[0m \u001b[1;31m# Load the dictionary with the lookup results for each cell value in the tabular data\u001b[0m\u001b[1;33m\u001b[0m\u001b[1;33m\u001b[0m\u001b[1;33m\u001b[0m\u001b[0m\n\u001b[0;32m      2\u001b[0m \u001b[1;32mdef\u001b[0m \u001b[0mload_json\u001b[0m\u001b[1;33m(\u001b[0m\u001b[0mdata_json\u001b[0m\u001b[1;33m)\u001b[0m\u001b[1;33m:\u001b[0m\u001b[1;33m\u001b[0m\u001b[1;33m\u001b[0m\u001b[0m\n\u001b[1;32m----> 3\u001b[1;33m     \u001b[1;32mwith\u001b[0m \u001b[0mopen\u001b[0m\u001b[1;33m(\u001b[0m\u001b[0mdata_json\u001b[0m\u001b[1;33m)\u001b[0m \u001b[1;32mas\u001b[0m \u001b[0mjson_file\u001b[0m\u001b[1;33m:\u001b[0m\u001b[1;33m\u001b[0m\u001b[1;33m\u001b[0m\u001b[0m\n\u001b[0m\u001b[0;32m      4\u001b[0m         \u001b[1;32mreturn\u001b[0m \u001b[0mjson\u001b[0m\u001b[1;33m.\u001b[0m\u001b[0mload\u001b[0m\u001b[1;33m(\u001b[0m\u001b[0mjson_file\u001b[0m\u001b[1;33m)\u001b[0m\u001b[1;33m\u001b[0m\u001b[1;33m\u001b[0m\u001b[0m\n",
      "\u001b[1;31mFileNotFoundError\u001b[0m: [Errno 2] No such file or directory: 'output\\\\dict_cand.json'"
     ]
    }
   ],
   "source": [
    "output_folder = 'output\\\\'\n",
    "cnn_model_directory = os.getcwd()+'\\\\output\\\\cnn_models'\n",
    "\n",
    "\n",
    "data = load_json(output_folder+'data.json')\n",
    "# dict_col_candidate_classes = load_json(output_folder+'dict_col_candidate_classes.json')\n",
    "type_neighours_pos_neg_samples = load_json(output_folder+'type_neighours_pos_neg_samples.json')\n",
    "dict_cand = load_json(output_folder+'dict_cand.json')\n"
   ]
  },
  {
   "cell_type": "code",
   "execution_count": null,
   "metadata": {},
   "outputs": [],
   "source": [
    "for key in type_neighours_pos_neg_samples['SoccerLeague'].keys():\n",
    "    print(f'The length of {key} is: {len(type_neighours_pos_neg_samples[\"Publisher\"][key])}')"
   ]
  },
  {
   "cell_type": "code",
   "execution_count": null,
   "metadata": {},
   "outputs": [],
   "source": [
    "def get_cnn_models(directory):\n",
    "    temp = [x[0] for x in os.walk(directory)]\n",
    "    temp.remove(directory)\n",
    "    return set([x.replace(directory+'\\\\','').split('\\\\')[0] for x in temp])\n",
    "\n",
    "trained_models = list(get_cnn_models(cnn_model_directory))\n",
    "# trained_models"
   ]
  },
  {
   "cell_type": "markdown",
   "metadata": {},
   "source": [
    "# Get predictions\n",
    "\n",
    "In this step, provided that we have the ground truth, we asses if the expected class is in the top x of the retrieved candidate classes."
   ]
  },
  {
   "cell_type": "code",
   "execution_count": null,
   "metadata": {},
   "outputs": [],
   "source": [
    "def load_model(cnn_model_directory, candidate_class):\n",
    "    return keras.models.load_model(cnn_model_directory+'\\%s' % candidate_class)"
   ]
  },
  {
   "cell_type": "markdown",
   "metadata": {},
   "source": [
    "# Get avg number of words per cell value"
   ]
  },
  {
   "cell_type": "code",
   "execution_count": null,
   "metadata": {},
   "outputs": [],
   "source": [
    "def avg_cell_value_word_lenght(data):\n",
    "    cell_values = list()\n",
    "\n",
    "    for file in data:\n",
    "        for col in data[file]['data']:\n",
    "            cell_values += data[file]['data'][col]\n",
    "\n",
    "    cell_values = list(set(cell_values))\n",
    "    len(cell_values)\n",
    "\n",
    "    word_seq = list()\n",
    "\n",
    "    for cell_value in cell_values:\n",
    "        value = str(cell_value).replace('_', ' ').replace('-', ' ').replace('.', ' ').replace('/', ' ').replace('\"', ' ').replace(\"'\", ' ')\n",
    "        tokenized_line = ' '.join(tokenize(value))\n",
    "        is_alpha_word_line = [word for word in tokenized_line.lower().split() if word.isalpha()]\n",
    "        word_seq += is_alpha_word_line\n",
    "\n",
    "    return len(word_seq) / len(cell_values)\n",
    "\n",
    "avg_cell_value_word_lenght(data)"
   ]
  },
  {
   "cell_type": "markdown",
   "metadata": {},
   "source": [
    "# only run once"
   ]
  },
  {
   "cell_type": "code",
   "execution_count": 8,
   "metadata": {},
   "outputs": [],
   "source": [
    "w2v_model = Word2Vec.load(os.path.join(FLAGS.model_dir, 'word2vec_gensim'))"
   ]
  },
  {
   "cell_type": "code",
   "execution_count": 6,
   "metadata": {},
   "outputs": [],
   "source": [
    "def generate_synthetic_columns_random(entities, synthetic_column_size):\n",
    "    ent_units = list()\n",
    "    if len(entities) >= synthetic_column_size:\n",
    "        for i, ent in enumerate(entities):\n",
    "            unit = list([ent])\n",
    "            unit += random.sample(entities[0:i] + entities[(i + 1):], synthetic_column_size - 1)\n",
    "            \n",
    "            ent_units.append(unit)\n",
    "    else:\n",
    "        unit = entities + ['NaN'] * (len(entities) - synthetic_column_size)\n",
    "        ent_units.append(unit)\n",
    "    return ent_units\n",
    "\n",
    "def generate_synthetic_columns_sliding_window(entities, synthetic_column_size):\n",
    "    ent_units = list()\n",
    "    if len(entities) >= synthetic_column_size:\n",
    "        for i in range(len(entities)-synthetic_column_size+1):\n",
    "            try:\n",
    "                unit = entities[i:i+synthetic_column_size]\n",
    "            except:\n",
    "                pass\n",
    "            ent_units.append(unit)\n",
    "    else:\n",
    "        unit = entities + ['NaN'] * (len(entities) - synthetic_column_size)\n",
    "        ent_units.append(unit)\n",
    "    return ent_units\n",
    "\n",
    "def synthetic_columns2sequence(ent_units, sequence_size):\n",
    "    word_seq = list()\n",
    "    for ent in ent_units:\n",
    "        ent_n = str(ent).replace('_', ' ').replace('-', ' ').replace('.', ' ').replace('/', ' '). \\\n",
    "            replace('\"', ' ').replace(\"'\", ' ')\n",
    "        tokenized_line = ' '.join(tokenize(ent_n))\n",
    "        is_alpha_word_line = [word for word in tokenized_line.lower().split() if word.isalpha()]\n",
    "        word_seq += is_alpha_word_line\n",
    "    if len(word_seq) >= sequence_size:\n",
    "        return word_seq[0:sequence_size]\n",
    "    else:\n",
    "        return word_seq + ['NaN'] * (sequence_size - len(word_seq))\n",
    "    \n",
    "def sequence2matrix(word_seq, sequence_size, w2v_model):\n",
    "    ent_v = np.zeros((sequence_size, w2v_model.vector_size, 1))\n",
    "    for i, word in enumerate(word_seq):\n",
    "        if not word == 'NaN' and word in w2v_model.wv.vocab:\n",
    "            w_vec = w2v_model.wv[word]\n",
    "            ent_v[i] = w_vec.reshape((w2v_model.vector_size, 1))\n",
    "    return ent_v"
   ]
  },
  {
   "cell_type": "code",
   "execution_count": 11,
   "metadata": {},
   "outputs": [
    {
     "data": {
      "text/plain": [
       "array([-1.6122762e+00,  3.5356188e-01, -4.2486897e+00,  9.7855830e-01,\n",
       "        2.1969104e+00, -8.6641455e-01,  2.9656665e+00, -3.8403472e-01,\n",
       "       -9.6652400e-01,  1.1881042e+00,  2.7770591e+00,  3.1848630e-01,\n",
       "        1.3442953e+00,  1.3643821e+00,  1.1223407e+00, -1.6002315e+00,\n",
       "       -2.2920408e+00, -3.1475718e+00,  2.3952134e+00,  1.3788470e+00,\n",
       "       -6.8038192e+00, -1.0214456e+00,  2.5881829e+00, -2.4665810e-01,\n",
       "        3.1751220e+00,  2.7125015e+00, -1.7629579e-01, -1.7973022e-01,\n",
       "       -7.4542128e-02, -1.0854328e+00, -2.0955672e+00, -3.9554503e+00,\n",
       "        4.8371367e+00, -6.8498927e-01,  8.6106233e-02,  2.6727188e+00,\n",
       "       -1.2518578e+00, -1.2861208e+00,  1.3754371e+00, -2.8856778e+00,\n",
       "        8.1688799e-03, -3.0137670e+00, -1.3638873e+00,  5.5195087e-01,\n",
       "        2.7425001e+00,  8.4679490e-01,  2.2439459e-01, -2.3985710e+00,\n",
       "       -4.2245569e+00, -4.5641179e+00, -1.1711094e+00, -5.1430001e+00,\n",
       "       -1.9371053e+00,  4.4620782e-01, -1.1117090e+00,  2.5691709e-01,\n",
       "        2.1793966e+00,  1.4052901e-01,  3.1315176e+00, -3.2771191e-01,\n",
       "       -1.5024186e+00, -5.9554601e-01,  2.4842927e+00,  7.5040764e-01,\n",
       "       -4.0985048e-01,  2.2494757e+00, -2.7563941e-01,  6.9484299e-01,\n",
       "        5.9558964e+00,  2.2181830e+00, -2.3369908e+00,  5.2149086e+00,\n",
       "       -7.0049441e-01, -9.9842322e-01, -1.0356113e+00, -6.3110404e-02,\n",
       "        6.7047441e-01, -2.4331343e+00,  6.4725077e-01, -1.0597302e+00,\n",
       "        2.2786405e+00,  2.5433371e+00,  2.6607006e+00, -2.5884166e+00,\n",
       "        3.5751872e+00,  4.2885365e+00,  1.3740858e+00,  2.7780655e-01,\n",
       "        2.0118065e+00,  2.3017876e+00,  5.3978395e-01,  2.4723110e+00,\n",
       "       -9.7658432e-01, -2.1526527e+00, -1.6579896e+00, -4.9872401e-01,\n",
       "       -9.3591082e-01,  2.3638582e+00,  9.8685622e-01, -2.4797490e+00,\n",
       "       -2.9302897e+00,  1.3011377e+00,  1.9981366e-01, -6.4889150e-04,\n",
       "        4.8813787e+00, -1.6835212e+00,  2.1087978e+00, -1.4086672e+00,\n",
       "       -1.0444849e+00,  8.3888686e-01, -3.1433890e+00, -6.5598631e-01,\n",
       "        1.8274143e+00,  2.0016665e+00,  2.1844506e+00, -1.1018498e+00,\n",
       "        3.7228470e+00,  1.5322804e+00,  3.9041245e-01, -1.7311167e+00,\n",
       "        1.5950191e+00,  2.4796951e+00, -3.5443506e-01,  1.5634381e+00,\n",
       "       -1.5547484e+00,  9.6491790e-01,  1.2276816e+00, -2.1311378e-01,\n",
       "        8.6034164e-02, -8.9811301e-01,  2.0908415e+00,  2.1277993e+00,\n",
       "       -4.9227965e-01, -6.2941504e-01, -1.6205386e+00, -1.3682797e+00,\n",
       "       -6.1714184e-01, -1.3312054e+00, -1.3648407e-01, -2.5040529e+00,\n",
       "        8.4220904e-01, -3.5969317e-01, -2.0181186e+00,  1.1611505e+00,\n",
       "        1.7090282e+00,  2.7402711e+00,  2.7125211e+00,  5.8151799e-01,\n",
       "       -5.6749153e-01,  9.5969307e-01,  4.5846863e+00, -2.3259745e+00,\n",
       "        2.3102014e+00, -2.0966611e+00, -2.1645868e+00,  2.5294404e+00,\n",
       "        1.7857323e+00, -1.0536733e+00,  1.6803092e+00,  2.2604368e+00,\n",
       "        1.1232960e+00, -2.4329300e+00,  5.9759021e-01, -7.0970005e-01,\n",
       "       -2.9212279e+00,  3.8260275e-01, -1.0568900e+00,  2.4489459e-02,\n",
       "        1.7634268e+00,  8.5347658e-01, -4.5746174e+00, -3.2013083e+00,\n",
       "       -4.2711824e-02, -3.6786895e+00, -2.1086848e+00,  3.6460981e-01,\n",
       "       -3.6287460e+00, -5.8932140e-02,  4.4265056e+00,  1.9089344e-01,\n",
       "        3.9487011e+00, -2.1047709e+00,  7.2696459e-01,  4.8026280e+00,\n",
       "        2.2882714e+00, -8.6993986e-01,  8.7890697e-01,  2.0846424e+00,\n",
       "       -1.4982189e-01,  1.6322373e+00,  2.2992785e+00, -2.5705659e+00,\n",
       "       -5.8354241e-01, -1.9858211e+00, -2.2289398e+00,  6.8129390e-01,\n",
       "        6.1582781e-02,  3.3457274e+00,  7.2250384e-01, -4.1537583e-01],\n",
       "      dtype=float32)"
      ]
     },
     "execution_count": 11,
     "metadata": {},
     "output_type": "execute_result"
    }
   ],
   "source": [
    "w2v_model.wv['joseph']"
   ]
  },
  {
   "cell_type": "code",
   "execution_count": 12,
   "metadata": {},
   "outputs": [],
   "source": [
    "import random\n",
    "import math\n",
    "import numpy as np\n",
    "import time\n"
   ]
  },
  {
   "cell_type": "code",
   "execution_count": 13,
   "metadata": {},
   "outputs": [],
   "source": [
    "def embedding(cell_values):\n",
    "    synthetic_columns = generate_synthetic_columns_sliding_window(cell_values, FLAGS.synthetic_column_size)\n",
    "\n",
    "    synthetic_columns_sequences = list()\n",
    "    for synthetic_column in synthetic_columns:\n",
    "    #     print(synthetic_column)\n",
    "        synthetic_columns_sequences.append(synthetic_columns2sequence(synthetic_column, FLAGS.sequence_size))\n",
    "\n",
    "\n",
    "    X = np.zeros((len(synthetic_columns_sequences), FLAGS.sequence_size, w2v_model.vector_size, 1))\n",
    "\n",
    "    for sample_i, sequence in enumerate(synthetic_columns_sequences):\n",
    "        X[sample_i] = sequence2matrix(sequence, FLAGS.sequence_size, w2v_model)\n",
    "\n",
    "    return X\n",
    "\n",
    "# X = embedding(unique_cell_values)"
   ]
  },
  {
   "cell_type": "code",
   "execution_count": 14,
   "metadata": {},
   "outputs": [],
   "source": [
    "import tensorflow as tf\n",
    "# from tensorflow.keras.models import Sequential\n",
    "# from tensorflow.keras.layers import Dense, Conv2D, Flatten, Dropout, MaxPooling2D\n",
    "# from tensorflow.keras.preprocessing.image import ImageDataGenerator, img_to_array, load_img\n",
    "# import os\n",
    "# import numpy as np\n",
    "# import matplotlib.pyplot as plt\n",
    "# from tensorflow import keras\n",
    "# from IPython.display import clear_output"
   ]
  },
  {
   "cell_type": "code",
   "execution_count": 15,
   "metadata": {},
   "outputs": [],
   "source": [
    "# len(dict_cand)"
   ]
  },
  {
   "cell_type": "code",
   "execution_count": 24,
   "metadata": {},
   "outputs": [
    {
     "name": "stderr",
     "output_type": "stream",
     "text": [
      "100%|██████████████████████████████████████████████████████████████████████████████████| 63/63 [13:44<00:00, 13.09s/it]\n"
     ]
    }
   ],
   "source": [
    "limit = 10\n",
    "\n",
    "try:\n",
    "    dict_predictions = load_json(output_folder+'dict_predictions.json')\n",
    "except:\n",
    "    dict_predictions = dict()\n",
    "\n",
    "# for filename in tqdm(dict_cand):\n",
    "for filename in tqdm(dict(itertools.islice(dict_cand.items(), 200))):\n",
    "    if filename not in dict_predictions.keys():\n",
    "        with open(('output/dict_predictions.json'), 'w') as fp:\n",
    "            json.dump(dict_predictions, fp)   \n",
    "\n",
    "        dict_predictions[filename] = dict()\n",
    "        for col in dict_cand[filename]:\n",
    "            dict_predictions[filename][col] = dict()\n",
    "            # Get the candidate classes identified in previous steps. there is a limit variable in case we want to focus on the top x portion of that list\n",
    "            candidate_cls = [x[0] for x in dict_cand[filename][col]['class_without_hr'][:limit]]\n",
    "    #         candidate_cls = trained_models\n",
    "            cell_values = data[filename]['data'][col]\n",
    "\n",
    "            print(filename, col)\n",
    "            actual_cls = data[filename]['gt'][col]\n",
    "            dict_predictions[filename][col]['gt'] = actual_cls\n",
    "            print(actual_cls)\n",
    "\n",
    "            unique_cell_values=list(set(cell_values))\n",
    "            X = embedding(unique_cell_values)\n",
    "\n",
    "            results = list()\n",
    "            for cls in tqdm(candidate_cls):\n",
    "                # load the model\n",
    "                try:\n",
    "                    model = load_model(cnn_model_directory, cls)\n",
    "                    y_pred = tf.keras.activations.sigmoid(model.predict(X)).numpy().round()\n",
    "                    results.append((cls, round(y_pred.sum()*100/X.shape[0],2)))\n",
    "                    tf.keras.backend.clear_session()\n",
    "                except:\n",
    "                    pass\n",
    "#                 print(cls)\n",
    "            results = sorted(results, key=lambda x: x[1], reverse=True)\n",
    "            dict_predictions[filename][col]['cand_cls'] = dict_cand[filename][col]['class_without_hr'][:limit]\n",
    "            dict_predictions[filename][col]['pred'] = results\n",
    "            clear_output(wait=True)\n",
    "    \n",
    "    \n",
    "with open(('output/dict_predictions-%s.json' % time.strftime(\"%Y%m%d-%H%M%S\")), 'w') as fp:\n",
    "        json.dump(dict_predictions, fp)        "
   ]
  },
  {
   "cell_type": "code",
   "execution_count": 17,
   "metadata": {},
   "outputs": [],
   "source": [
    "from rdflib import Graph\n",
    "from SPARQLWrapper import SPARQLWrapper, JSON, N3\n",
    "from pprint import pprint\n",
    "import requests\n",
    "import xml.etree.ElementTree as ET"
   ]
  },
  {
   "cell_type": "code",
   "execution_count": 18,
   "metadata": {},
   "outputs": [
    {
     "data": {
      "text/plain": [
       "['Artist', 'Person', 'Animal', 'Eukaryote', 'Species']"
      ]
     },
     "execution_count": 18,
     "metadata": {},
     "output_type": "execute_result"
    }
   ],
   "source": [
    "def dbo_sparql_results(query_string):\n",
    "    \n",
    "    classes = list([])\n",
    "    dbo_prefix = 'http://dbpedia.org/ontology/'\n",
    "    \n",
    "    \n",
    "    sparql = SPARQLWrapper('https://dbpedia.org/sparql')\n",
    "    sparql.setQuery(query_string)\n",
    "    \n",
    "    try:\n",
    "        sparql.setReturnFormat(JSON)\n",
    "        qres = sparql.query().convert()\n",
    "        for entity_class in qres['results']['bindings']:\n",
    "            if dbo_prefix in entity_class[list(qres['results']['bindings'][0].keys())[0]]['value']:\n",
    "                candicate_class = entity_class[list(qres['results']['bindings'][0].keys())[0]]['value'].split(dbo_prefix)[1]\n",
    "                classes.append(candicate_class)\n",
    "    except:\n",
    "        pass\n",
    "    \n",
    "    return classes\n",
    "\n",
    "def get_dbo_subclass(superClass):\n",
    "    \n",
    "    query_string = f'''\n",
    "    SELECT distinct ?subClass \n",
    "    WHERE {{ ?subClass rdfs:subClassOf dbo:{superClass}. }}\n",
    "    '''\n",
    "    return dbo_sparql_results(query_string)\n",
    "\n",
    "\n",
    "def get_dbo_superclass(subclass):\n",
    "    \n",
    "    query_string = f'''\n",
    "    SELECT distinct ?superClass \n",
    "    WHERE {{ dbo:{subclass} rdfs:subClassOf ?superClass . }}\n",
    "    '''\n",
    "    \n",
    "    return dbo_sparql_results(query_string)\n",
    "\n",
    "\n",
    "def get_dbo_superclasses(subclass):\n",
    "    classes = list([])\n",
    "    \n",
    "    try:\n",
    "        parent = get_dbo_superclass(subclass)\n",
    "    except:\n",
    "        return []\n",
    "    \n",
    "    while len(parent) > 0:\n",
    "        classes.append(parent[0])\n",
    "        parent = get_dbo_superclass(parent[0])\n",
    "    return classes\n",
    "\n",
    "get_dbo_superclasses('Actor')"
   ]
  },
  {
   "cell_type": "code",
   "execution_count": 19,
   "metadata": {},
   "outputs": [],
   "source": [
    "def lookup_assessment_considering_hr(dict_cand, threshold = 500):\n",
    "    found = 0\n",
    "    found_cnn = 0\n",
    "    total_columns = 0\n",
    "    parent_found = 0\n",
    "    parent_found_in_lookup = 0\n",
    "    index = 0\n",
    "\n",
    "    for file in dict_cand:\n",
    "#         print(index)\n",
    "#         index += 1\n",
    "        for col in dict_cand[file]:\n",
    "            candidate_class_lookup = [x[0] for x in dict_cand[file][col]['cand_cls'][:threshold]]\n",
    "            candidate_class_cnn = [x[0] for x in dict_cand[file][col]['pred'][:threshold]]\n",
    "            actual_cls = dict_cand[file][col]['gt']\n",
    "#             print(candidate_class_lookup)\n",
    "#             print (candidate_class_cnn)\n",
    "#             print (actual_cls)\n",
    "            if actual_cls in candidate_class_lookup:\n",
    "                found+=1\n",
    "                parent_found_in_lookup += 1\n",
    "\n",
    "            # else we give half a point in case the predicted value is in the hierarchy (i.e. parent) of the actual value\n",
    "            else:\n",
    "                parents_of_expected_type = get_dbo_superclasses(actual_cls)\n",
    "                intersection = [value for value in parents_of_expected_type if value in candidate_class_lookup]\n",
    "                if len(intersection) > 0:\n",
    "                    parent_found_in_lookup += 0.5\n",
    "\n",
    "            if actual_cls in candidate_class_cnn:\n",
    "                found_cnn+=1\n",
    "                parent_found += 1\n",
    "\n",
    "            # else we give half a point in case the predicted value is in the hierarchy (i.e. parent) of the actual value\n",
    "            else:\n",
    "                parents_of_expected_type = get_dbo_superclasses(actual_cls)\n",
    "                intersection = [value for value in parents_of_expected_type if value in candidate_class_cnn]\n",
    "                if len(intersection) > 0:\n",
    "                    parent_found += 0.5\n",
    "\n",
    "            total_columns+=1\n",
    "    return (round(100*found/total_columns,2),round(100*parent_found_in_lookup/total_columns,2),round(100*found_cnn/total_columns,2),round(100*parent_found/total_columns,2))\n"
   ]
  },
  {
   "cell_type": "code",
   "execution_count": 20,
   "metadata": {},
   "outputs": [],
   "source": [
    "# dict_predictions = load_json(output_folder+'dict_predictions.json')"
   ]
  },
  {
   "cell_type": "code",
   "execution_count": 21,
   "metadata": {},
   "outputs": [],
   "source": [
    "# string_1 = 'CTRL_DBP_BUS_automobile_manufacturer'\n",
    "# string_2 = 'CTRL_DBP_BUS_automobile_manufacturer_NOISE2'\n",
    "\n",
    "# if 'NOISE' not in string_1:\n",
    "#     print('found')"
   ]
  },
  {
   "cell_type": "code",
   "execution_count": 25,
   "metadata": {},
   "outputs": [
    {
     "name": "stderr",
     "output_type": "stream",
     "text": [
      " 10%|████████▎                                                                          | 1/10 [01:07<10:11, 67.90s/it]"
     ]
    },
    {
     "name": "stdout",
     "output_type": "stream",
     "text": [
      "(1, (75.23, 79.36, 66.06, 72.94))\n"
     ]
    },
    {
     "name": "stderr",
     "output_type": "stream",
     "text": [
      " 20%|████████████████▌                                                                  | 2/10 [01:54<08:12, 61.59s/it]"
     ]
    },
    {
     "name": "stdout",
     "output_type": "stream",
     "text": [
      "(2, (81.65, 85.32, 76.15, 81.65))\n"
     ]
    },
    {
     "name": "stderr",
     "output_type": "stream",
     "text": [
      " 30%|████████████████████████▉                                                          | 3/10 [02:27<06:10, 52.88s/it]"
     ]
    },
    {
     "name": "stdout",
     "output_type": "stream",
     "text": [
      "(3, (87.16, 89.45, 80.73, 85.32))\n"
     ]
    },
    {
     "name": "stderr",
     "output_type": "stream",
     "text": [
      " 40%|█████████████████████████████████▏                                                 | 4/10 [02:58<04:37, 46.26s/it]"
     ]
    },
    {
     "name": "stdout",
     "output_type": "stream",
     "text": [
      "(4, (87.16, 90.37, 84.4, 88.99))\n"
     ]
    },
    {
     "name": "stderr",
     "output_type": "stream",
     "text": [
      " 50%|█████████████████████████████████████████▌                                         | 5/10 [03:22<03:19, 39.83s/it]"
     ]
    },
    {
     "name": "stdout",
     "output_type": "stream",
     "text": [
      "(5, (88.07, 91.28, 88.99, 92.2))\n"
     ]
    },
    {
     "name": "stderr",
     "output_type": "stream",
     "text": [
      " 60%|█████████████████████████████████████████████████▊                                 | 6/10 [03:44<02:17, 34.31s/it]"
     ]
    },
    {
     "name": "stdout",
     "output_type": "stream",
     "text": [
      "(6, (88.99, 91.74, 89.91, 92.66))\n"
     ]
    },
    {
     "name": "stderr",
     "output_type": "stream",
     "text": [
      " 70%|██████████████████████████████████████████████████████████                         | 7/10 [03:59<01:26, 28.69s/it]"
     ]
    },
    {
     "name": "stdout",
     "output_type": "stream",
     "text": [
      "(7, (90.83, 93.12, 93.58, 94.5))\n"
     ]
    },
    {
     "name": "stderr",
     "output_type": "stream",
     "text": [
      " 80%|██████████████████████████████████████████████████████████████████▍                | 8/10 [04:14<00:48, 24.50s/it]"
     ]
    },
    {
     "name": "stdout",
     "output_type": "stream",
     "text": [
      "(8, (91.74, 93.58, 93.58, 94.5))\n"
     ]
    },
    {
     "name": "stderr",
     "output_type": "stream",
     "text": [
      " 90%|██████████████████████████████████████████████████████████████████████████▋        | 9/10 [04:28<00:21, 21.43s/it]"
     ]
    },
    {
     "name": "stdout",
     "output_type": "stream",
     "text": [
      "(9, (91.74, 93.58, 93.58, 94.5))\n"
     ]
    },
    {
     "name": "stderr",
     "output_type": "stream",
     "text": [
      "100%|██████████████████████████████████████████████████████████████████████████████████| 10/10 [04:40<00:00, 28.08s/it]"
     ]
    },
    {
     "name": "stdout",
     "output_type": "stream",
     "text": [
      "(10, (93.58, 94.5, 93.58, 94.5))\n"
     ]
    },
    {
     "name": "stderr",
     "output_type": "stream",
     "text": [
      "\n"
     ]
    },
    {
     "data": {
      "image/png": "[encoded data removed]",
      "text/plain": [
       "<Figure size 432x288 with 1 Axes>"
      ]
     },
     "metadata": {
      "needs_background": "light"
     },
     "output_type": "display_data"
    },
    {
     "data": {
      "text/plain": [
       "[(1, (75.23, 79.36, 66.06, 72.94)),\n",
       " (2, (81.65, 85.32, 76.15, 81.65)),\n",
       " (3, (87.16, 89.45, 80.73, 85.32)),\n",
       " (4, (87.16, 90.37, 84.4, 88.99)),\n",
       " (5, (88.07, 91.28, 88.99, 92.2)),\n",
       " (6, (88.99, 91.74, 89.91, 92.66)),\n",
       " (7, (90.83, 93.12, 93.58, 94.5)),\n",
       " (8, (91.74, 93.58, 93.58, 94.5)),\n",
       " (9, (91.74, 93.58, 93.58, 94.5)),\n",
       " (10, (93.58, 94.5, 93.58, 94.5))]"
      ]
     },
     "execution_count": 25,
     "metadata": {},
     "output_type": "execute_result"
    }
   ],
   "source": [
    "import matplotlib.pyplot as plt\n",
    "import numpy as np\n",
    "\n",
    "\n",
    "results = []\n",
    "\n",
    "# # first we calculate the max number of candidates across all the columns in the tabular data so we cap the range\n",
    "# max_cand = 0\n",
    "# for file in dict_predictions:\n",
    "#     for col in dict_predictions[file]:\n",
    "        \n",
    "#         candidate_cls = set()\n",
    "#         for element in dict_predictions[file][col]:\n",
    "#             candidate_cls.add(element[0])\n",
    "#         if len(candidate_cls) > max_cand:\n",
    "#             max_cand = len(candidate_cls)\n",
    "\n",
    "            \n",
    "# the we increase the size of top list one element at a time until we reac the cap...\n",
    "for i in tqdm(range(1,11)):\n",
    "    (x,y) = (i, lookup_assessment_considering_hr(dict_predictions, i))\n",
    "    print((x,y))\n",
    "    results.append((x,y))\n",
    "\n",
    "#... and plot the results\n",
    "fig, ax = plt.subplots()\n",
    "ax.plot([x[0] for x in results],[x[1] for x in results])\n",
    "plt.show()\n",
    "results"
   ]
  },
  {
   "cell_type": "code",
   "execution_count": 26,
   "metadata": {},
   "outputs": [
    {
     "name": "stdout",
     "output_type": "stream",
     "text": [
      "1:66.06 (72.94)\n",
      "2:76.15 (81.65)\n",
      "3:80.73 (85.32)\n",
      "4:84.4 (88.99)\n",
      "5:88.99 (92.2)\n",
      "6:89.91 (92.66)\n",
      "7:93.58 (94.5)\n",
      "8:93.58 (94.5)\n",
      "9:93.58 (94.5)\n",
      "10:93.58 (94.5)\n"
     ]
    }
   ],
   "source": [
    "for i in results:\n",
    "    print(f\"{i[0]}:{i[1][2]} ({i[1][3]})\")"
   ]
  },
  {
   "cell_type": "code",
   "execution_count": null,
   "metadata": {},
   "outputs": [],
   "source": [
    "dict_predictions_top5_random = load_json(output_folder+'dict_predictions_top5_random.json')"
   ]
  },
  {
   "cell_type": "code",
   "execution_count": null,
   "metadata": {},
   "outputs": [],
   "source": [
    "import matplotlib.pyplot as plt\n",
    "import numpy as np\n",
    "\n",
    "\n",
    "results = []\n",
    "\n",
    "# first we calculate the max number of candidates across all the columns in the tabular data so we cap the range\n",
    "max_cand = 0\n",
    "for file in dict_predictions_top5_random:\n",
    "    for col in dict_predictions_top5_random[file]:\n",
    "        \n",
    "        candidate_cls = set()\n",
    "        for element in dict_predictions_top5_random[file][col]:\n",
    "            candidate_cls.add(element[0])\n",
    "        if len(candidate_cls) > max_cand:\n",
    "            max_cand = len(candidate_cls)\n",
    "\n",
    "            \n",
    "# the we increase the size of top list one element at a time until we reac the cap...\n",
    "for i in range(1,6):\n",
    "    (x,y) = (i, lookup_assessment(dict_predictions_top5_random, i))\n",
    "    results.append((x,y))\n",
    "\n",
    "#... and plot the results\n",
    "fig, ax = plt.subplots()\n",
    "ax.plot([x[0] for x in results],[x[1] for x in results])\n",
    "plt.show()\n",
    "results"
   ]
  },
  {
   "cell_type": "code",
   "execution_count": null,
   "metadata": {},
   "outputs": [],
   "source": [
    "dict_predictions_top5_sliding = load_json(output_folder+'dict_predictions_top5_sliding.json')"
   ]
  },
  {
   "cell_type": "code",
   "execution_count": null,
   "metadata": {},
   "outputs": [],
   "source": [
    "\n",
    "import matplotlib.pyplot as plt\n",
    "import numpy as np\n",
    "\n",
    "\n",
    "results = []\n",
    "\n",
    "# # first we calculate the max number of candidates across all the columns in the tabular data so we cap the range\n",
    "# max_cand = 0\n",
    "# for file in dict_predictions:\n",
    "#     for col in dict_predictions[file]:\n",
    "        \n",
    "#         candidate_cls = set()\n",
    "#         for element in dict_predictions[file][col]:\n",
    "#             candidate_cls.add(element[0])\n",
    "#         if len(candidate_cls) > max_cand:\n",
    "#             max_cand = len(candidate_cls)\n",
    "\n",
    "            \n",
    "# the we increase the size of top list one element at a time until we reac the cap...\n",
    "for i in range(1,6):\n",
    "    (x,y) = (i, lookup_assessment(dict_predictions_top5_sliding, i))\n",
    "    results.append((x,y))\n",
    "\n",
    "#... and plot the results\n",
    "fig, ax = plt.subplots()\n",
    "ax.plot([x[0] for x in results],[x[1] for x in results])\n",
    "plt.show()\n",
    "results"
   ]
  },
  {
   "cell_type": "code",
   "execution_count": null,
   "metadata": {},
   "outputs": [],
   "source": [
    "# max_cand"
   ]
  },
  {
   "cell_type": "code",
   "execution_count": null,
   "metadata": {},
   "outputs": [],
   "source": []
  },
  {
   "cell_type": "code",
   "execution_count": null,
   "metadata": {},
   "outputs": [],
   "source": [
    "with open(('output/dict_predictions.json'), 'w') as fp:\n",
    "        json.dump(dict_predictions, fp)"
   ]
  },
  {
   "cell_type": "code",
   "execution_count": null,
   "metadata": {},
   "outputs": [],
   "source": [
    "dict_predictions_top5_sliding['50245608_0_871275842592178099']"
   ]
  },
  {
   "cell_type": "code",
   "execution_count": null,
   "metadata": {},
   "outputs": [],
   "source": [
    "print(dict_predictions_top5_sliding['50245608_0_871275842592178099']['0']['gt'])\n",
    "\n",
    "for cls in dict_predictions_top5_sliding['50245608_0_871275842592178099']['0']['pred']:\n",
    "    print(cls)\n",
    "    print(f\"Parents: {get_dbo_superclasses(cls[0])}\")\n",
    "    print(f\"Offspring: {get_dbo_subclass(cls[0])}\")"
   ]
  },
  {
   "cell_type": "code",
   "execution_count": null,
   "metadata": {},
   "outputs": [],
   "source": [
    "# print(dict_predictions_top5_sliding['8468806_0_4382447409703007384']['1']['gt'])\n",
    "\n",
    "for filename in dict(itertools.islice(dict_predictions_top5_sliding.items(), 10)):\n",
    "\n",
    "    index = 0\n",
    "    print(f\"-----------------------------------------------\")\n",
    "    print(f\"Filename: {filename}\")\n",
    "    for col in dict_predictions_top5_sliding[filename]:\n",
    "        actual_cls = dict_predictions_top5_sliding[filename][col]['gt']\n",
    "        top1_clc = dict_predictions_top5_sliding[filename][col]['pred'][0][0]\n",
    "        col_title = data[filename]['column_titles'][index]\n",
    "        index += 1\n",
    "        print(f\"Column: {col},Actual class: {actual_cls}, Predicted Class: {top1_clc}, Column Title: {col_title}\")\n",
    "        print(f\"Parents: {get_dbo_superclasses(cls[0])}\")\n",
    "        print(f\"Offspring: {get_dbo_subclass(cls[0])}\")"
   ]
  },
  {
   "cell_type": "code",
   "execution_count": null,
   "metadata": {},
   "outputs": [],
   "source": [
    "data"
   ]
  },
  {
   "cell_type": "code",
   "execution_count": null,
   "metadata": {},
   "outputs": [],
   "source": [
    "get_dbo_superclasses('Lake')"
   ]
  },
  {
   "cell_type": "code",
   "execution_count": null,
   "metadata": {},
   "outputs": [],
   "source": [
    "get_dbo_subclass('Lake')"
   ]
  },
  {
   "cell_type": "code",
   "execution_count": null,
   "metadata": {},
   "outputs": [],
   "source": []
  },
  {
   "cell_type": "code",
   "execution_count": null,
   "metadata": {},
   "outputs": [],
   "source": []
  },
  {
   "cell_type": "code",
   "execution_count": null,
   "metadata": {},
   "outputs": [],
   "source": []
  },
  {
   "cell_type": "code",
   "execution_count": null,
   "metadata": {},
   "outputs": [],
   "source": []
  },
  {
   "cell_type": "code",
   "execution_count": null,
   "metadata": {},
   "outputs": [],
   "source": []
  },
  {
   "cell_type": "markdown",
   "metadata": {},
   "source": [
    "Retrieve all folders under the cnn_models root"
   ]
  },
  {
   "cell_type": "code",
   "execution_count": null,
   "metadata": {},
   "outputs": [],
   "source": [
    "def get_cnn_models(directory):\n",
    "    temp = [x[0] for x in os.walk(directory)]\n",
    "    temp.remove(directory)\n",
    "    return set([x.replace(directory+'\\\\','').split('\\\\')[0] for x in temp])\n",
    "\n",
    "trained_models = list(get_cnn_models(cnn_model_directory))\n",
    "trained_models"
   ]
  },
  {
   "cell_type": "code",
   "execution_count": null,
   "metadata": {},
   "outputs": [],
   "source": [
    "# model.summary()"
   ]
  },
  {
   "cell_type": "code",
   "execution_count": null,
   "metadata": {},
   "outputs": [],
   "source": [
    "# results"
   ]
  },
  {
   "cell_type": "code",
   "execution_count": 9,
   "metadata": {},
   "outputs": [],
   "source": [
    "model = load_model(cnn_model_directory, 'Film')"
   ]
  },
  {
   "cell_type": "code",
   "execution_count": 14,
   "metadata": {},
   "outputs": [
    {
     "name": "stdout",
     "output_type": "stream",
     "text": [
      "Model: \"sequential\"\n",
      "_________________________________________________________________\n",
      "Layer (type)                 Output Shape              Param #   \n",
      "=================================================================\n",
      "conv2d (Conv2D)              (None, 30, 200, 16)       160       \n",
      "_________________________________________________________________\n",
      "max_pooling2d (MaxPooling2D) (None, 15, 100, 16)       0         \n",
      "_________________________________________________________________\n",
      "dropout (Dropout)            (None, 15, 100, 16)       0         \n",
      "_________________________________________________________________\n",
      "conv2d_1 (Conv2D)            (None, 15, 100, 32)       4640      \n",
      "_________________________________________________________________\n",
      "max_pooling2d_1 (MaxPooling2 (None, 7, 50, 32)         0         \n",
      "_________________________________________________________________\n",
      "conv2d_2 (Conv2D)            (None, 7, 50, 64)         18496     \n",
      "_________________________________________________________________\n",
      "max_pooling2d_2 (MaxPooling2 (None, 3, 25, 64)         0         \n",
      "_________________________________________________________________\n",
      "dropout_1 (Dropout)          (None, 3, 25, 64)         0         \n",
      "_________________________________________________________________\n",
      "flatten (Flatten)            (None, 4800)              0         \n",
      "_________________________________________________________________\n",
      "dense (Dense)                (None, 512)               2458112   \n",
      "_________________________________________________________________\n",
      "dense_1 (Dense)              (None, 1)                 513       \n",
      "=================================================================\n",
      "Total params: 2,481,921\n",
      "Trainable params: 2,481,921\n",
      "Non-trainable params: 0\n",
      "_________________________________________________________________\n"
     ]
    }
   ],
   "source": [
    "model.summary()"
   ]
  },
  {
   "cell_type": "code",
   "execution_count": null,
   "metadata": {},
   "outputs": [],
   "source": []
  }
 ],
 "metadata": {
  "kernelspec": {
   "display_name": "Python 3",
   "language": "python",
   "name": "python3"
  },
  "language_info": {
   "codemirror_mode": {
    "name": "ipython",
    "version": 3
   },
   "file_extension": ".py",
   "mimetype": "text/x-python",
   "name": "python",
   "nbconvert_exporter": "python",
   "pygments_lexer": "ipython3",
   "version": "3.7.3"
  }
 },
 "nbformat": 4,
 "nbformat_minor": 2
}
